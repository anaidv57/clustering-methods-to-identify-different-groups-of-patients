{
 "cells": [
  {
   "cell_type": "code",
   "execution_count": 52,
   "metadata": {},
   "outputs": [],
   "source": [
    "library(dplyr)\n",
    "library(scatterplot3d)\n",
    "library(cluster)"
   ]
  },
  {
   "cell_type": "code",
   "execution_count": 53,
   "metadata": {},
   "outputs": [
    {
     "data": {
      "text/html": [
       "<ol class=list-inline>\n",
       "\t<li>380</li>\n",
       "\t<li>25</li>\n",
       "</ol>\n"
      ],
      "text/latex": [
       "\\begin{enumerate*}\n",
       "\\item 380\n",
       "\\item 25\n",
       "\\end{enumerate*}\n"
      ],
      "text/markdown": [
       "1. 380\n",
       "2. 25\n",
       "\n",
       "\n"
      ],
      "text/plain": [
       "[1] 380  25"
      ]
     },
     "metadata": {},
     "output_type": "display_data"
    },
    {
     "data": {
      "text/html": [
       "<ol class=list-inline>\n",
       "\t<li>'WORK2'</li>\n",
       "\t<li>'HOBBY2'</li>\n",
       "\t<li>'BREATH2'</li>\n",
       "\t<li>'PAIN2'</li>\n",
       "\t<li>'REST2'</li>\n",
       "\t<li>'SLEEP2'</li>\n",
       "\t<li>'APPET2'</li>\n",
       "\t<li>'NAUSEA2'</li>\n",
       "\t<li>'VOMIT2'</li>\n",
       "\t<li>'CONST2'</li>\n",
       "\t<li>'DIARR2'</li>\n",
       "\t<li>'TIRED2'</li>\n",
       "\t<li>'PAINADL2'</li>\n",
       "\t<li>'CONCEN2'</li>\n",
       "\t<li>'TENSE2'</li>\n",
       "\t<li>'WORRY2'</li>\n",
       "\t<li>'IRRIT2'</li>\n",
       "\t<li>'DEPRES2'</li>\n",
       "\t<li>'REMEM2'</li>\n",
       "\t<li>'FAMILY2'</li>\n",
       "\t<li>'SOCIAL2'</li>\n",
       "\t<li>'FINANC2'</li>\n",
       "\t<li>'GENDER'</li>\n",
       "\t<li>'AGE'</li>\n",
       "\t<li>'LIVEWITH'</li>\n",
       "</ol>\n"
      ],
      "text/latex": [
       "\\begin{enumerate*}\n",
       "\\item 'WORK2'\n",
       "\\item 'HOBBY2'\n",
       "\\item 'BREATH2'\n",
       "\\item 'PAIN2'\n",
       "\\item 'REST2'\n",
       "\\item 'SLEEP2'\n",
       "\\item 'APPET2'\n",
       "\\item 'NAUSEA2'\n",
       "\\item 'VOMIT2'\n",
       "\\item 'CONST2'\n",
       "\\item 'DIARR2'\n",
       "\\item 'TIRED2'\n",
       "\\item 'PAINADL2'\n",
       "\\item 'CONCEN2'\n",
       "\\item 'TENSE2'\n",
       "\\item 'WORRY2'\n",
       "\\item 'IRRIT2'\n",
       "\\item 'DEPRES2'\n",
       "\\item 'REMEM2'\n",
       "\\item 'FAMILY2'\n",
       "\\item 'SOCIAL2'\n",
       "\\item 'FINANC2'\n",
       "\\item 'GENDER'\n",
       "\\item 'AGE'\n",
       "\\item 'LIVEWITH'\n",
       "\\end{enumerate*}\n"
      ],
      "text/markdown": [
       "1. 'WORK2'\n",
       "2. 'HOBBY2'\n",
       "3. 'BREATH2'\n",
       "4. 'PAIN2'\n",
       "5. 'REST2'\n",
       "6. 'SLEEP2'\n",
       "7. 'APPET2'\n",
       "8. 'NAUSEA2'\n",
       "9. 'VOMIT2'\n",
       "10. 'CONST2'\n",
       "11. 'DIARR2'\n",
       "12. 'TIRED2'\n",
       "13. 'PAINADL2'\n",
       "14. 'CONCEN2'\n",
       "15. 'TENSE2'\n",
       "16. 'WORRY2'\n",
       "17. 'IRRIT2'\n",
       "18. 'DEPRES2'\n",
       "19. 'REMEM2'\n",
       "20. 'FAMILY2'\n",
       "21. 'SOCIAL2'\n",
       "22. 'FINANC2'\n",
       "23. 'GENDER'\n",
       "24. 'AGE'\n",
       "25. 'LIVEWITH'\n",
       "\n",
       "\n"
      ],
      "text/plain": [
       " [1] \"WORK2\"    \"HOBBY2\"   \"BREATH2\"  \"PAIN2\"    \"REST2\"    \"SLEEP2\"  \n",
       " [7] \"APPET2\"   \"NAUSEA2\"  \"VOMIT2\"   \"CONST2\"   \"DIARR2\"   \"TIRED2\"  \n",
       "[13] \"PAINADL2\" \"CONCEN2\"  \"TENSE2\"   \"WORRY2\"   \"IRRIT2\"   \"DEPRES2\" \n",
       "[19] \"REMEM2\"   \"FAMILY2\"  \"SOCIAL2\"  \"FINANC2\"  \"GENDER\"   \"AGE\"     \n",
       "[25] \"LIVEWITH\""
      ]
     },
     "metadata": {},
     "output_type": "display_data"
    }
   ],
   "source": [
    "setwd(\"D:/Lancaster University/Modules/Statistical learning/coursework task-20180209\") \n",
    "patient <- read.table(\"patient.dat\", header = TRUE)\n",
    "#View(patient)\n",
    "dim(patient)#381  25\n",
    "names(patient)"
   ]
  },
  {
   "cell_type": "code",
   "execution_count": 54,
   "metadata": {},
   "outputs": [
    {
     "data": {
      "text/html": [
       "<ol class=list-inline>\n",
       "\t<li>'WORK2'</li>\n",
       "\t<li>'HOBBY2'</li>\n",
       "\t<li>'BREATH2'</li>\n",
       "\t<li>'PAIN2'</li>\n",
       "\t<li>'REST2'</li>\n",
       "\t<li>'SLEEP2'</li>\n",
       "\t<li>'APPET2'</li>\n",
       "\t<li>'NAUSEA2'</li>\n",
       "\t<li>'VOMIT2'</li>\n",
       "\t<li>'CONST2'</li>\n",
       "\t<li>'DIARR2'</li>\n",
       "\t<li>'TIRED2'</li>\n",
       "\t<li>'PAINADL2'</li>\n",
       "\t<li>'CONCEN2'</li>\n",
       "\t<li>'TENSE2'</li>\n",
       "\t<li>'WORRY2'</li>\n",
       "\t<li>'IRRIT2'</li>\n",
       "\t<li>'DEPRES2'</li>\n",
       "\t<li>'REMEM2'</li>\n",
       "\t<li>'FAMILY2'</li>\n",
       "\t<li>'SOCIAL2'</li>\n",
       "\t<li>'FINANC2'</li>\n",
       "</ol>\n"
      ],
      "text/latex": [
       "\\begin{enumerate*}\n",
       "\\item 'WORK2'\n",
       "\\item 'HOBBY2'\n",
       "\\item 'BREATH2'\n",
       "\\item 'PAIN2'\n",
       "\\item 'REST2'\n",
       "\\item 'SLEEP2'\n",
       "\\item 'APPET2'\n",
       "\\item 'NAUSEA2'\n",
       "\\item 'VOMIT2'\n",
       "\\item 'CONST2'\n",
       "\\item 'DIARR2'\n",
       "\\item 'TIRED2'\n",
       "\\item 'PAINADL2'\n",
       "\\item 'CONCEN2'\n",
       "\\item 'TENSE2'\n",
       "\\item 'WORRY2'\n",
       "\\item 'IRRIT2'\n",
       "\\item 'DEPRES2'\n",
       "\\item 'REMEM2'\n",
       "\\item 'FAMILY2'\n",
       "\\item 'SOCIAL2'\n",
       "\\item 'FINANC2'\n",
       "\\end{enumerate*}\n"
      ],
      "text/markdown": [
       "1. 'WORK2'\n",
       "2. 'HOBBY2'\n",
       "3. 'BREATH2'\n",
       "4. 'PAIN2'\n",
       "5. 'REST2'\n",
       "6. 'SLEEP2'\n",
       "7. 'APPET2'\n",
       "8. 'NAUSEA2'\n",
       "9. 'VOMIT2'\n",
       "10. 'CONST2'\n",
       "11. 'DIARR2'\n",
       "12. 'TIRED2'\n",
       "13. 'PAINADL2'\n",
       "14. 'CONCEN2'\n",
       "15. 'TENSE2'\n",
       "16. 'WORRY2'\n",
       "17. 'IRRIT2'\n",
       "18. 'DEPRES2'\n",
       "19. 'REMEM2'\n",
       "20. 'FAMILY2'\n",
       "21. 'SOCIAL2'\n",
       "22. 'FINANC2'\n",
       "\n",
       "\n"
      ],
      "text/plain": [
       " [1] \"WORK2\"    \"HOBBY2\"   \"BREATH2\"  \"PAIN2\"    \"REST2\"    \"SLEEP2\"  \n",
       " [7] \"APPET2\"   \"NAUSEA2\"  \"VOMIT2\"   \"CONST2\"   \"DIARR2\"   \"TIRED2\"  \n",
       "[13] \"PAINADL2\" \"CONCEN2\"  \"TENSE2\"   \"WORRY2\"   \"IRRIT2\"   \"DEPRES2\" \n",
       "[19] \"REMEM2\"   \"FAMILY2\"  \"SOCIAL2\"  \"FINANC2\" "
      ]
     },
     "metadata": {},
     "output_type": "display_data"
    },
    {
     "data": {
      "text/html": [
       "<ol class=list-inline>\n",
       "\t<li>302</li>\n",
       "\t<li>22</li>\n",
       "</ol>\n"
      ],
      "text/latex": [
       "\\begin{enumerate*}\n",
       "\\item 302\n",
       "\\item 22\n",
       "\\end{enumerate*}\n"
      ],
      "text/markdown": [
       "1. 302\n",
       "2. 22\n",
       "\n",
       "\n"
      ],
      "text/plain": [
       "[1] 302  22"
      ]
     },
     "metadata": {},
     "output_type": "display_data"
    },
    {
     "data": {
      "text/html": [
       "<table>\n",
       "<thead><tr><th scope=col>WORK2</th><th scope=col>HOBBY2</th><th scope=col>BREATH2</th><th scope=col>PAIN2</th><th scope=col>REST2</th><th scope=col>SLEEP2</th><th scope=col>APPET2</th><th scope=col>NAUSEA2</th><th scope=col>VOMIT2</th><th scope=col>CONST2</th><th scope=col>...</th><th scope=col>PAINADL2</th><th scope=col>CONCEN2</th><th scope=col>TENSE2</th><th scope=col>WORRY2</th><th scope=col>IRRIT2</th><th scope=col>DEPRES2</th><th scope=col>REMEM2</th><th scope=col>FAMILY2</th><th scope=col>SOCIAL2</th><th scope=col>FINANC2</th></tr></thead>\n",
       "<tbody>\n",
       "\t<tr><td>3  </td><td>3  </td><td>2  </td><td>3  </td><td>3  </td><td>2  </td><td>1  </td><td>1  </td><td>1  </td><td>1  </td><td>...</td><td>2  </td><td>3  </td><td>1  </td><td>1  </td><td>2  </td><td>1  </td><td>1  </td><td>3  </td><td>2  </td><td>3  </td></tr>\n",
       "\t<tr><td>4  </td><td>4  </td><td>4  </td><td>4  </td><td>4  </td><td>4  </td><td>1  </td><td>2  </td><td>2  </td><td>2  </td><td>...</td><td>3  </td><td>3  </td><td>3  </td><td>3  </td><td>3  </td><td>3  </td><td>3  </td><td>2  </td><td>3  </td><td>3  </td></tr>\n",
       "\t<tr><td>4  </td><td>4  </td><td>4  </td><td>2  </td><td>4  </td><td>2  </td><td>1  </td><td>1  </td><td>1  </td><td>1  </td><td>...</td><td>2  </td><td>3  </td><td>2  </td><td>2  </td><td>2  </td><td>2  </td><td>3  </td><td>3  </td><td>4  </td><td>1  </td></tr>\n",
       "\t<tr><td>4  </td><td>3  </td><td>3  </td><td>3  </td><td>3  </td><td>4  </td><td>2  </td><td>1  </td><td>1  </td><td>1  </td><td>...</td><td>4  </td><td>4  </td><td>4  </td><td>4  </td><td>4  </td><td>4  </td><td>4  </td><td>3  </td><td>3  </td><td>2  </td></tr>\n",
       "\t<tr><td>3  </td><td>3  </td><td>1  </td><td>3  </td><td>3  </td><td>4  </td><td>2  </td><td>2  </td><td>1  </td><td>1  </td><td>...</td><td>2  </td><td>3  </td><td>3  </td><td>2  </td><td>3  </td><td>3  </td><td>3  </td><td>3  </td><td>3  </td><td>1  </td></tr>\n",
       "\t<tr><td>2  </td><td>2  </td><td>2  </td><td>2  </td><td>3  </td><td>1  </td><td>2  </td><td>1  </td><td>1  </td><td>3  </td><td>...</td><td>1  </td><td>1  </td><td>1  </td><td>2  </td><td>1  </td><td>2  </td><td>2  </td><td>3  </td><td>2  </td><td>1  </td></tr>\n",
       "</tbody>\n",
       "</table>\n"
      ],
      "text/latex": [
       "\\begin{tabular}{r|llllllllllllllllllllll}\n",
       " WORK2 & HOBBY2 & BREATH2 & PAIN2 & REST2 & SLEEP2 & APPET2 & NAUSEA2 & VOMIT2 & CONST2 & ... & PAINADL2 & CONCEN2 & TENSE2 & WORRY2 & IRRIT2 & DEPRES2 & REMEM2 & FAMILY2 & SOCIAL2 & FINANC2\\\\\n",
       "\\hline\n",
       "\t 3   & 3   & 2   & 3   & 3   & 2   & 1   & 1   & 1   & 1   & ... & 2   & 3   & 1   & 1   & 2   & 1   & 1   & 3   & 2   & 3  \\\\\n",
       "\t 4   & 4   & 4   & 4   & 4   & 4   & 1   & 2   & 2   & 2   & ... & 3   & 3   & 3   & 3   & 3   & 3   & 3   & 2   & 3   & 3  \\\\\n",
       "\t 4   & 4   & 4   & 2   & 4   & 2   & 1   & 1   & 1   & 1   & ... & 2   & 3   & 2   & 2   & 2   & 2   & 3   & 3   & 4   & 1  \\\\\n",
       "\t 4   & 3   & 3   & 3   & 3   & 4   & 2   & 1   & 1   & 1   & ... & 4   & 4   & 4   & 4   & 4   & 4   & 4   & 3   & 3   & 2  \\\\\n",
       "\t 3   & 3   & 1   & 3   & 3   & 4   & 2   & 2   & 1   & 1   & ... & 2   & 3   & 3   & 2   & 3   & 3   & 3   & 3   & 3   & 1  \\\\\n",
       "\t 2   & 2   & 2   & 2   & 3   & 1   & 2   & 1   & 1   & 3   & ... & 1   & 1   & 1   & 2   & 1   & 2   & 2   & 3   & 2   & 1  \\\\\n",
       "\\end{tabular}\n"
      ],
      "text/markdown": [
       "\n",
       "WORK2 | HOBBY2 | BREATH2 | PAIN2 | REST2 | SLEEP2 | APPET2 | NAUSEA2 | VOMIT2 | CONST2 | ... | PAINADL2 | CONCEN2 | TENSE2 | WORRY2 | IRRIT2 | DEPRES2 | REMEM2 | FAMILY2 | SOCIAL2 | FINANC2 | \n",
       "|---|---|---|---|---|---|\n",
       "| 3   | 3   | 2   | 3   | 3   | 2   | 1   | 1   | 1   | 1   | ... | 2   | 3   | 1   | 1   | 2   | 1   | 1   | 3   | 2   | 3   | \n",
       "| 4   | 4   | 4   | 4   | 4   | 4   | 1   | 2   | 2   | 2   | ... | 3   | 3   | 3   | 3   | 3   | 3   | 3   | 2   | 3   | 3   | \n",
       "| 4   | 4   | 4   | 2   | 4   | 2   | 1   | 1   | 1   | 1   | ... | 2   | 3   | 2   | 2   | 2   | 2   | 3   | 3   | 4   | 1   | \n",
       "| 4   | 3   | 3   | 3   | 3   | 4   | 2   | 1   | 1   | 1   | ... | 4   | 4   | 4   | 4   | 4   | 4   | 4   | 3   | 3   | 2   | \n",
       "| 3   | 3   | 1   | 3   | 3   | 4   | 2   | 2   | 1   | 1   | ... | 2   | 3   | 3   | 2   | 3   | 3   | 3   | 3   | 3   | 1   | \n",
       "| 2   | 2   | 2   | 2   | 3   | 1   | 2   | 1   | 1   | 3   | ... | 1   | 1   | 1   | 2   | 1   | 2   | 2   | 3   | 2   | 1   | \n",
       "\n",
       "\n"
      ],
      "text/plain": [
       "  WORK2 HOBBY2 BREATH2 PAIN2 REST2 SLEEP2 APPET2 NAUSEA2 VOMIT2 CONST2 ...\n",
       "1 3     3      2       3     3     2      1      1       1      1      ...\n",
       "2 4     4      4       4     4     4      1      2       2      2      ...\n",
       "3 4     4      4       2     4     2      1      1       1      1      ...\n",
       "4 4     3      3       3     3     4      2      1       1      1      ...\n",
       "5 3     3      1       3     3     4      2      2       1      1      ...\n",
       "6 2     2      2       2     3     1      2      1       1      3      ...\n",
       "  PAINADL2 CONCEN2 TENSE2 WORRY2 IRRIT2 DEPRES2 REMEM2 FAMILY2 SOCIAL2 FINANC2\n",
       "1 2        3       1      1      2      1       1      3       2       3      \n",
       "2 3        3       3      3      3      3       3      2       3       3      \n",
       "3 2        3       2      2      2      2       3      3       4       1      \n",
       "4 4        4       4      4      4      4       4      3       3       2      \n",
       "5 2        3       3      2      3      3       3      3       3       1      \n",
       "6 1        1       1      2      1      2       2      3       2       1      "
      ]
     },
     "metadata": {},
     "output_type": "display_data"
    }
   ],
   "source": [
    "patient_clus<- select(patient, WORK2, HOBBY2, BREATH2, PAIN2, REST2, SLEEP2, APPET2, NAUSEA2, VOMIT2, CONST2, DIARR2, TIRED2, PAINADL2, CONCEN2, TENSE2, WORRY2, IRRIT2, DEPRES2, REMEM2, FAMILY2, SOCIAL2, FINANC2)\n",
    "names(patient_clus)\n",
    "patient_clus<- na.omit(patient_clus)\n",
    "dim(patient_clus)#302 22  \n",
    "head(patient_clus)"
   ]
  },
  {
   "cell_type": "code",
   "execution_count": 56,
   "metadata": {
    "scrolled": true
   },
   "outputs": [
    {
     "data": {
      "text/plain": [
       "Medoids:\n",
       "     ID WORK2 HOBBY2 BREATH2 PAIN2 REST2 SLEEP2 APPET2 NAUSEA2 VOMIT2 CONST2\n",
       "135 113     3      3       2     1     3      2      1       1      1      1\n",
       "215 175     4      4       2     4     4      3      2       3      3      3\n",
       "353 281     2      2       1     2     2      1      1       1      1      1\n",
       "360 286     1      1       1     1     1      1      1       1      1      1\n",
       "    DIARR2 TIRED2 PAINADL2 CONCEN2 TENSE2 WORRY2 IRRIT2 DEPRES2 REMEM2 FAMILY2\n",
       "135      1      3        1       2      2      2      2       2      2       2\n",
       "215      1      4        4       2      3      4      3       4      2       4\n",
       "353      1      2        1       1      2      2      2       2      1       2\n",
       "360      1      1        1       1      1      1      1       1      1       1\n",
       "    SOCIAL2 FINANC2\n",
       "135       3       2\n",
       "215       4       2\n",
       "353       2       1\n",
       "360       1       1\n",
       "Clustering vector:\n",
       "  1   2   3   4   5   6   7   8  10  11  12  13  14  15  16  17  18  20  21  22 \n",
       "  1   2   1   2   1   3   4   3   3   2   3   3   4   3   1   3   2   3   1   1 \n",
       " 23  24  25  26  27  30  31  32  34  37  38  39  40  41  42  44  45  47  48  49 \n",
       "  3   1   4   1   1   2   4   2   3   3   1   1   1   4   1   4   2   4   2   1 \n",
       " 50  51  52  53  55  56  57  58  59  61  62  64  65  66  67  69  70  71  72  73 \n",
       "  4   2   1   2   2   3   1   1   3   4   3   4   3   3   1   1   4   3   1   3 \n",
       " 74  76  77  78  79  80  81  82  83  85  86  87  88  90  92  94  95  96  97  98 \n",
       "  4   3   3   3   1   1   4   4   4   1   4   3   3   3   2   1   1   3   1   3 \n",
       " 99 100 101 102 103 104 105 106 107 108 109 111 112 114 116 117 118 119 120 122 \n",
       "  1   4   3   4   3   1   1   4   3   1   4   4   3   2   1   3   1   3   3   1 \n",
       "123 124 125 126 127 128 129 130 131 132 133 134 135 137 138 140 141 142 143 146 \n",
       "  3   4   4   1   4   3   1   1   3   1   1   3   1   4   2   2   1   1   4   1 \n",
       "147 148 149 150 151 152 153 154 155 156 157 159 160 161 163 165 166 167 168 169 \n",
       "  3   3   3   2   3   1   1   3   4   2   4   1   4   1   2   3   1   1   4   2 \n",
       "172 173 174 175 176 177 178 179 180 181 182 183 186 187 188 189 190 191 192 193 \n",
       "  1   1   4   1   1   1   4   2   1   4   3   3   1   1   4   3   2   3   4   3 \n",
       "194 197 198 199 200 201 203 204 207 208 209 210 212 214 215 216 217 218 220 221 \n",
       "  3   1   1   3   2   3   1   3   1   3   4   3   1   2   2   3   1   1   3   3 \n",
       "222 224 225 226 230 231 232 233 234 236 238 240 242 243 245 246 247 248 249 250 \n",
       "  3   3   3   3   4   1   4   3   1   2   4   1   1   3   2   1   3   3   1   2 \n",
       "251 252 253 254 257 259 260 261 262 264 265 266 267 268 269 270 274 276 277 278 \n",
       "  2   1   3   3   1   3   3   3   1   1   3   2   1   1   1   2   4   4   3   3 \n",
       "279 280 281 282 283 284 285 286 287 288 289 290 291 292 294 295 296 297 298 299 \n",
       "  4   2   1   1   4   3   4   2   1   2   1   4   1   2   2   1   4   2   3   1 \n",
       "300 302 303 304 306 307 308 309 310 311 314 315 316 317 318 319 320 321 323 324 \n",
       "  4   1   1   1   3   4   2   1   1   1   2   2   2   2   2   2   2   2   4   3 \n",
       "325 326 328 330 332 336 337 338 339 340 341 342 343 344 345 346 347 349 350 351 \n",
       "  1   1   3   2   1   2   1   1   1   3   3   4   3   1   1   1   3   1   4   1 \n",
       "353 354 356 358 359 360 361 363 365 366 368 369 370 371 372 374 375 376 377 378 \n",
       "  3   1   2   1   1   4   3   2   1   1   2   1   3   2   3   3   4   1   2   1 \n",
       "379 380 \n",
       "  1   2 \n",
       "Objective function:\n",
       "   build     swap \n",
       "3.685457 3.660834 \n",
       "\n",
       "Available components:\n",
       " [1] \"medoids\"    \"id.med\"     \"clustering\" \"objective\"  \"isolation\" \n",
       " [6] \"clusinfo\"   \"silinfo\"    \"diss\"       \"call\"       \"data\"      "
      ]
     },
     "metadata": {},
     "output_type": "display_data"
    }
   ],
   "source": [
    "#pam\n",
    "out2<-pam(patient_clus,4)\n",
    "out2\n",
    "\n",
    "\n"
   ]
  },
  {
   "cell_type": "code",
   "execution_count": 57,
   "metadata": {},
   "outputs": [
    {
     "data": {
      "text/html": [
       "<ol class=list-inline>\n",
       "\t<li>113</li>\n",
       "\t<li>175</li>\n",
       "\t<li>281</li>\n",
       "\t<li>286</li>\n",
       "</ol>\n"
      ],
      "text/latex": [
       "\\begin{enumerate*}\n",
       "\\item 113\n",
       "\\item 175\n",
       "\\item 281\n",
       "\\item 286\n",
       "\\end{enumerate*}\n"
      ],
      "text/markdown": [
       "1. 113\n",
       "2. 175\n",
       "3. 281\n",
       "4. 286\n",
       "\n",
       "\n"
      ],
      "text/plain": [
       "[1] 113 175 281 286"
      ]
     },
     "metadata": {},
     "output_type": "display_data"
    }
   ],
   "source": [
    "out2$id.med\n"
   ]
  },
  {
   "cell_type": "code",
   "execution_count": 58,
   "metadata": {},
   "outputs": [
    {
     "data": {
      "text/html": [
       "<dl class=dl-horizontal>\n",
       "\t<dt>1</dt>\n",
       "\t\t<dd>no</dd>\n",
       "\t<dt>2</dt>\n",
       "\t\t<dd>no</dd>\n",
       "\t<dt>3</dt>\n",
       "\t\t<dd>no</dd>\n",
       "\t<dt>4</dt>\n",
       "\t\t<dd>no</dd>\n",
       "</dl>\n"
      ],
      "text/latex": [
       "\\begin{description*}\n",
       "\\item[1] no\n",
       "\\item[2] no\n",
       "\\item[3] no\n",
       "\\item[4] no\n",
       "\\end{description*}\n"
      ],
      "text/markdown": [
       "1\n",
       ":   no2\n",
       ":   no3\n",
       ":   no4\n",
       ":   no\n",
       "\n"
      ],
      "text/plain": [
       " 1  2  3  4 \n",
       "no no no no \n",
       "Levels: no L L*"
      ]
     },
     "metadata": {},
     "output_type": "display_data"
    }
   ],
   "source": [
    "out2$isolation \n"
   ]
  },
  {
   "cell_type": "code",
   "execution_count": 59,
   "metadata": {
    "scrolled": true
   },
   "outputs": [
    {
     "data": {
      "image/png": "[encoded data removed]",
      "text/plain": [
       "Plot with title \"clusplot(pam(x = patient_clus, k = 4))\""
      ]
     },
     "metadata": {},
     "output_type": "display_data"
    },
    {
     "data": {
      "image/png": "[encoded data removed]",
      "text/plain": [
       "Plot with title \"Silhouette plot of pam(x = patient_clus, k = 4)\""
      ]
     },
     "metadata": {},
     "output_type": "display_data"
    }
   ],
   "source": [
    "plot(out2)# as before produces a silhouette plot. \t\t"
   ]
  },
  {
   "cell_type": "code",
   "execution_count": 60,
   "metadata": {},
   "outputs": [
    {
     "data": {
      "text/html": [
       "2"
      ],
      "text/latex": [
       "2"
      ],
      "text/markdown": [
       "2"
      ],
      "text/plain": [
       "[1] 2"
      ]
     },
     "metadata": {},
     "output_type": "display_data"
    }
   ],
   "source": [
    "asw<-numeric(20)\n",
    "for (k in 2:20)\n",
    "       asw[k] <- pam(patient_clus, k) $ silinfo $ avg.width\n",
    "k.best <- which.max(asw)\n",
    "k.best#it is 2"
   ]
  },
  {
   "cell_type": "code",
   "execution_count": 61,
   "metadata": {},
   "outputs": [
    {
     "data": {
      "image/png": "[encoded data removed]",
      "text/plain": [
       "Plot with title \"pam() clustering assessment\""
      ]
     },
     "metadata": {},
     "output_type": "display_data"
    }
   ],
   "source": [
    "plot(1:20, asw, type= \"h\", \n",
    "main = \"pam() clustering assessment\",\n",
    "xlab= \"k  (# clusters)\", \n",
    "ylab = \"av silhouette width\") #silhouette-optimal number of clusters:2"
   ]
  },
  {
   "cell_type": "code",
   "execution_count": 62,
   "metadata": {},
   "outputs": [],
   "source": [
    "#I tried with 2"
   ]
  },
  {
   "cell_type": "code",
   "execution_count": 63,
   "metadata": {
    "scrolled": true
   },
   "outputs": [
    {
     "data": {
      "text/plain": [
       "Medoids:\n",
       "     ID WORK2 HOBBY2 BREATH2 PAIN2 REST2 SLEEP2 APPET2 NAUSEA2 VOMIT2 CONST2\n",
       "353 281     2      2       1     2     2      1      1       1      1      1\n",
       "212 173     3      4       3     3     3      3      2       1      1      1\n",
       "    DIARR2 TIRED2 PAINADL2 CONCEN2 TENSE2 WORRY2 IRRIT2 DEPRES2 REMEM2 FAMILY2\n",
       "353      1      2        1       1      2      2      2       2      1       2\n",
       "212      1      3        3       3      3      3      2       2      3       4\n",
       "    SOCIAL2 FINANC2\n",
       "353       2       1\n",
       "212       4       2\n",
       "Clustering vector:\n",
       "  1   2   3   4   5   6   7   8  10  11  12  13  14  15  16  17  18  20  21  22 \n",
       "  1   2   2   2   2   1   1   1   1   2   1   1   1   1   1   1   2   1   1   1 \n",
       " 23  24  25  26  27  30  31  32  34  37  38  39  40  41  42  44  45  47  48  49 \n",
       "  1   1   1   1   1   2   1   2   1   1   2   1   1   1   1   1   2   1   2   2 \n",
       " 50  51  52  53  55  56  57  58  59  61  62  64  65  66  67  69  70  71  72  73 \n",
       "  1   2   1   2   2   1   1   1   1   1   1   1   1   1   1   2   1   1   1   1 \n",
       " 74  76  77  78  79  80  81  82  83  85  86  87  88  90  92  94  95  96  97  98 \n",
       "  1   1   1   1   1   1   1   1   1   1   1   1   1   1   2   1   1   1   1   1 \n",
       " 99 100 101 102 103 104 105 106 107 108 109 111 112 114 116 117 118 119 120 122 \n",
       "  1   1   1   1   1   2   1   1   1   2   1   1   1   2   1   1   1   1   1   2 \n",
       "123 124 125 126 127 128 129 130 131 132 133 134 135 137 138 140 141 142 143 146 \n",
       "  1   1   1   2   1   1   1   1   1   1   1   1   1   1   2   2   1   2   1   2 \n",
       "147 148 149 150 151 152 153 154 155 156 157 159 160 161 163 165 166 167 168 169 \n",
       "  1   1   1   2   1   2   2   1   1   2   1   1   1   2   2   1   2   1   1   2 \n",
       "172 173 174 175 176 177 178 179 180 181 182 183 186 187 188 189 190 191 192 193 \n",
       "  1   1   1   2   1   2   1   2   1   1   1   1   2   1   1   1   2   1   1   1 \n",
       "194 197 198 199 200 201 203 204 207 208 209 210 212 214 215 216 217 218 220 221 \n",
       "  1   1   2   1   2   1   2   1   1   1   1   1   2   2   2   1   1   1   1   1 \n",
       "222 224 225 226 230 231 232 233 234 236 238 240 242 243 245 246 247 248 249 250 \n",
       "  1   1   1   1   1   1   1   1   1   2   1   1   1   1   2   2   1   1   1   2 \n",
       "251 252 253 254 257 259 260 261 262 264 265 266 267 268 269 270 274 276 277 278 \n",
       "  2   1   1   1   2   1   1   1   1   1   1   2   2   2   2   2   1   1   1   1 \n",
       "279 280 281 282 283 284 285 286 287 288 289 290 291 292 294 295 296 297 298 299 \n",
       "  1   2   2   2   1   1   1   2   2   2   2   1   1   2   2   2   1   2   1   1 \n",
       "300 302 303 304 306 307 308 309 310 311 314 315 316 317 318 319 320 321 323 324 \n",
       "  1   2   1   2   1   1   2   1   1   1   2   2   2   2   2   2   2   2   1   1 \n",
       "325 326 328 330 332 336 337 338 339 340 341 342 343 344 345 346 347 349 350 351 \n",
       "  1   2   1   2   1   2   2   2   1   1   1   1   1   2   1   2   1   2   1   1 \n",
       "353 354 356 358 359 360 361 363 365 366 368 369 370 371 372 374 375 376 377 378 \n",
       "  1   2   2   1   2   1   1   2   1   1   2   2   1   2   1   1   1   1   2   1 \n",
       "379 380 \n",
       "  1   2 \n",
       "Objective function:\n",
       "   build     swap \n",
       "4.134117 4.080840 \n",
       "\n",
       "Available components:\n",
       " [1] \"medoids\"    \"id.med\"     \"clustering\" \"objective\"  \"isolation\" \n",
       " [6] \"clusinfo\"   \"silinfo\"    \"diss\"       \"call\"       \"data\"      "
      ]
     },
     "metadata": {},
     "output_type": "display_data"
    }
   ],
   "source": [
    "out3<-pam(patient_clus,2)\n",
    "out3"
   ]
  },
  {
   "cell_type": "code",
   "execution_count": 64,
   "metadata": {},
   "outputs": [
    {
     "data": {
      "text/html": [
       "<ol class=list-inline>\n",
       "\t<li>281</li>\n",
       "\t<li>173</li>\n",
       "</ol>\n"
      ],
      "text/latex": [
       "\\begin{enumerate*}\n",
       "\\item 281\n",
       "\\item 173\n",
       "\\end{enumerate*}\n"
      ],
      "text/markdown": [
       "1. 281\n",
       "2. 173\n",
       "\n",
       "\n"
      ],
      "text/plain": [
       "[1] 281 173"
      ]
     },
     "metadata": {},
     "output_type": "display_data"
    }
   ],
   "source": [
    "out3$id.med"
   ]
  },
  {
   "cell_type": "code",
   "execution_count": 65,
   "metadata": {},
   "outputs": [
    {
     "data": {
      "text/html": [
       "<dl class=dl-horizontal>\n",
       "\t<dt>1</dt>\n",
       "\t\t<dd>no</dd>\n",
       "\t<dt>2</dt>\n",
       "\t\t<dd>no</dd>\n",
       "</dl>\n"
      ],
      "text/latex": [
       "\\begin{description*}\n",
       "\\item[1] no\n",
       "\\item[2] no\n",
       "\\end{description*}\n"
      ],
      "text/markdown": [
       "1\n",
       ":   no2\n",
       ":   no\n",
       "\n"
      ],
      "text/plain": [
       " 1  2 \n",
       "no no \n",
       "Levels: no L L*"
      ]
     },
     "metadata": {},
     "output_type": "display_data"
    }
   ],
   "source": [
    "out3$isolation\n"
   ]
  },
  {
   "cell_type": "code",
   "execution_count": 66,
   "metadata": {},
   "outputs": [
    {
     "data": {
      "image/png": "[encoded data removed]",
      "text/plain": [
       "Plot with title \"clusplot(pam(x = patient_clus, k = 2))\""
      ]
     },
     "metadata": {},
     "output_type": "display_data"
    },
    {
     "data": {
      "image/png": "[encoded data removed]",
      "text/plain": [
       "Plot with title \"Silhouette plot of pam(x = patient_clus, k = 2)\""
      ]
     },
     "metadata": {},
     "output_type": "display_data"
    }
   ],
   "source": [
    " plot(out3)# as before produces a silhouette plot. \t\t"
   ]
  },
  {
   "cell_type": "code",
   "execution_count": null,
   "metadata": {},
   "outputs": [],
   "source": [
    " "
   ]
  },
  {
   "cell_type": "code",
   "execution_count": null,
   "metadata": {},
   "outputs": [],
   "source": [
    " "
   ]
  },
  {
   "cell_type": "code",
   "execution_count": null,
   "metadata": {},
   "outputs": [],
   "source": []
  },
  {
   "cell_type": "code",
   "execution_count": null,
   "metadata": {
    "collapsed": true
   },
   "outputs": [],
   "source": []
  },
  {
   "cell_type": "code",
   "execution_count": null,
   "metadata": {
    "collapsed": true
   },
   "outputs": [],
   "source": []
  },
  {
   "cell_type": "code",
   "execution_count": null,
   "metadata": {
    "collapsed": true
   },
   "outputs": [],
   "source": []
  },
  {
   "cell_type": "code",
   "execution_count": null,
   "metadata": {
    "collapsed": true
   },
   "outputs": [],
   "source": []
  },
  {
   "cell_type": "code",
   "execution_count": null,
   "metadata": {
    "collapsed": true
   },
   "outputs": [],
   "source": []
  },
  {
   "cell_type": "code",
   "execution_count": null,
   "metadata": {
    "collapsed": true
   },
   "outputs": [],
   "source": []
  }
 ],
 "metadata": {
  "kernelspec": {
   "display_name": "R",
   "language": "R",
   "name": "ir"
  },
  "language_info": {
   "codemirror_mode": "r",
   "file_extension": ".r",
   "mimetype": "text/x-r-source",
   "name": "R",
   "pygments_lexer": "r",
   "version": "3.4.2"
  }
 },
 "nbformat": 4,
 "nbformat_minor": 2
}
