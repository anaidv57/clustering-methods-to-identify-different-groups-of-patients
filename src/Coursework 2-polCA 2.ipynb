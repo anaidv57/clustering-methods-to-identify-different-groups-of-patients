{
 "cells": [
  {
   "cell_type": "code",
   "execution_count": 305,
   "metadata": {
    "collapsed": true
   },
   "outputs": [],
   "source": [
    "library(foreign)\n",
    "library(poLCA)\n",
    "library(dplyr)\n",
    "library(scatterplot3d)\n",
    "library(cluster)\n",
    "library(caret)\n",
    "library(tree)\n",
    "library(e1071)\n",
    "library(plyr)\n",
    "library(rpart)\n",
    "library(rpart.plot)\n",
    "library(calibrate)\n",
    "library(car)\n",
    "library(nnet)\n",
    "library(ResourceSelection)"
   ]
  },
  {
   "cell_type": "code",
   "execution_count": 306,
   "metadata": {},
   "outputs": [
    {
     "data": {
      "text/html": [
       "<ol class=list-inline>\n",
       "\t<li>380</li>\n",
       "\t<li>25</li>\n",
       "</ol>\n"
      ],
      "text/latex": [
       "\\begin{enumerate*}\n",
       "\\item 380\n",
       "\\item 25\n",
       "\\end{enumerate*}\n"
      ],
      "text/markdown": [
       "1. 380\n",
       "2. 25\n",
       "\n",
       "\n"
      ],
      "text/plain": [
       "[1] 380  25"
      ]
     },
     "metadata": {},
     "output_type": "display_data"
    },
    {
     "data": {
      "text/html": [
       "<ol class=list-inline>\n",
       "\t<li>'WORK2'</li>\n",
       "\t<li>'HOBBY2'</li>\n",
       "\t<li>'BREATH2'</li>\n",
       "\t<li>'PAIN2'</li>\n",
       "\t<li>'REST2'</li>\n",
       "\t<li>'SLEEP2'</li>\n",
       "\t<li>'APPET2'</li>\n",
       "\t<li>'NAUSEA2'</li>\n",
       "\t<li>'VOMIT2'</li>\n",
       "\t<li>'CONST2'</li>\n",
       "\t<li>'DIARR2'</li>\n",
       "\t<li>'TIRED2'</li>\n",
       "\t<li>'PAINADL2'</li>\n",
       "\t<li>'CONCEN2'</li>\n",
       "\t<li>'TENSE2'</li>\n",
       "\t<li>'WORRY2'</li>\n",
       "\t<li>'IRRIT2'</li>\n",
       "\t<li>'DEPRES2'</li>\n",
       "\t<li>'REMEM2'</li>\n",
       "\t<li>'FAMILY2'</li>\n",
       "\t<li>'SOCIAL2'</li>\n",
       "\t<li>'FINANC2'</li>\n",
       "\t<li>'GENDER'</li>\n",
       "\t<li>'AGE'</li>\n",
       "\t<li>'LIVEWITH'</li>\n",
       "</ol>\n"
      ],
      "text/latex": [
       "\\begin{enumerate*}\n",
       "\\item 'WORK2'\n",
       "\\item 'HOBBY2'\n",
       "\\item 'BREATH2'\n",
       "\\item 'PAIN2'\n",
       "\\item 'REST2'\n",
       "\\item 'SLEEP2'\n",
       "\\item 'APPET2'\n",
       "\\item 'NAUSEA2'\n",
       "\\item 'VOMIT2'\n",
       "\\item 'CONST2'\n",
       "\\item 'DIARR2'\n",
       "\\item 'TIRED2'\n",
       "\\item 'PAINADL2'\n",
       "\\item 'CONCEN2'\n",
       "\\item 'TENSE2'\n",
       "\\item 'WORRY2'\n",
       "\\item 'IRRIT2'\n",
       "\\item 'DEPRES2'\n",
       "\\item 'REMEM2'\n",
       "\\item 'FAMILY2'\n",
       "\\item 'SOCIAL2'\n",
       "\\item 'FINANC2'\n",
       "\\item 'GENDER'\n",
       "\\item 'AGE'\n",
       "\\item 'LIVEWITH'\n",
       "\\end{enumerate*}\n"
      ],
      "text/markdown": [
       "1. 'WORK2'\n",
       "2. 'HOBBY2'\n",
       "3. 'BREATH2'\n",
       "4. 'PAIN2'\n",
       "5. 'REST2'\n",
       "6. 'SLEEP2'\n",
       "7. 'APPET2'\n",
       "8. 'NAUSEA2'\n",
       "9. 'VOMIT2'\n",
       "10. 'CONST2'\n",
       "11. 'DIARR2'\n",
       "12. 'TIRED2'\n",
       "13. 'PAINADL2'\n",
       "14. 'CONCEN2'\n",
       "15. 'TENSE2'\n",
       "16. 'WORRY2'\n",
       "17. 'IRRIT2'\n",
       "18. 'DEPRES2'\n",
       "19. 'REMEM2'\n",
       "20. 'FAMILY2'\n",
       "21. 'SOCIAL2'\n",
       "22. 'FINANC2'\n",
       "23. 'GENDER'\n",
       "24. 'AGE'\n",
       "25. 'LIVEWITH'\n",
       "\n",
       "\n"
      ],
      "text/plain": [
       " [1] \"WORK2\"    \"HOBBY2\"   \"BREATH2\"  \"PAIN2\"    \"REST2\"    \"SLEEP2\"  \n",
       " [7] \"APPET2\"   \"NAUSEA2\"  \"VOMIT2\"   \"CONST2\"   \"DIARR2\"   \"TIRED2\"  \n",
       "[13] \"PAINADL2\" \"CONCEN2\"  \"TENSE2\"   \"WORRY2\"   \"IRRIT2\"   \"DEPRES2\" \n",
       "[19] \"REMEM2\"   \"FAMILY2\"  \"SOCIAL2\"  \"FINANC2\"  \"GENDER\"   \"AGE\"     \n",
       "[25] \"LIVEWITH\""
      ]
     },
     "metadata": {},
     "output_type": "display_data"
    }
   ],
   "source": [
    "setwd(\"D:/Lancaster University/Modules/Statistical learning/coursework task-20180209\") \n",
    "patient <- read.table(\"patient.dat\", header = TRUE)\n",
    "#View(patient)\n",
    "dim(patient)#381  25\n",
    "names(patient)"
   ]
  },
  {
   "cell_type": "code",
   "execution_count": 307,
   "metadata": {},
   "outputs": [
    {
     "data": {
      "text/html": [
       "<ol class=list-inline>\n",
       "\t<li>'WORK2'</li>\n",
       "\t<li>'HOBBY2'</li>\n",
       "\t<li>'BREATH2'</li>\n",
       "\t<li>'PAIN2'</li>\n",
       "\t<li>'REST2'</li>\n",
       "\t<li>'SLEEP2'</li>\n",
       "\t<li>'APPET2'</li>\n",
       "\t<li>'NAUSEA2'</li>\n",
       "\t<li>'VOMIT2'</li>\n",
       "\t<li>'CONST2'</li>\n",
       "\t<li>'DIARR2'</li>\n",
       "\t<li>'TIRED2'</li>\n",
       "\t<li>'PAINADL2'</li>\n",
       "\t<li>'CONCEN2'</li>\n",
       "\t<li>'TENSE2'</li>\n",
       "\t<li>'WORRY2'</li>\n",
       "\t<li>'IRRIT2'</li>\n",
       "\t<li>'DEPRES2'</li>\n",
       "\t<li>'REMEM2'</li>\n",
       "\t<li>'FAMILY2'</li>\n",
       "\t<li>'SOCIAL2'</li>\n",
       "\t<li>'FINANC2'</li>\n",
       "</ol>\n"
      ],
      "text/latex": [
       "\\begin{enumerate*}\n",
       "\\item 'WORK2'\n",
       "\\item 'HOBBY2'\n",
       "\\item 'BREATH2'\n",
       "\\item 'PAIN2'\n",
       "\\item 'REST2'\n",
       "\\item 'SLEEP2'\n",
       "\\item 'APPET2'\n",
       "\\item 'NAUSEA2'\n",
       "\\item 'VOMIT2'\n",
       "\\item 'CONST2'\n",
       "\\item 'DIARR2'\n",
       "\\item 'TIRED2'\n",
       "\\item 'PAINADL2'\n",
       "\\item 'CONCEN2'\n",
       "\\item 'TENSE2'\n",
       "\\item 'WORRY2'\n",
       "\\item 'IRRIT2'\n",
       "\\item 'DEPRES2'\n",
       "\\item 'REMEM2'\n",
       "\\item 'FAMILY2'\n",
       "\\item 'SOCIAL2'\n",
       "\\item 'FINANC2'\n",
       "\\end{enumerate*}\n"
      ],
      "text/markdown": [
       "1. 'WORK2'\n",
       "2. 'HOBBY2'\n",
       "3. 'BREATH2'\n",
       "4. 'PAIN2'\n",
       "5. 'REST2'\n",
       "6. 'SLEEP2'\n",
       "7. 'APPET2'\n",
       "8. 'NAUSEA2'\n",
       "9. 'VOMIT2'\n",
       "10. 'CONST2'\n",
       "11. 'DIARR2'\n",
       "12. 'TIRED2'\n",
       "13. 'PAINADL2'\n",
       "14. 'CONCEN2'\n",
       "15. 'TENSE2'\n",
       "16. 'WORRY2'\n",
       "17. 'IRRIT2'\n",
       "18. 'DEPRES2'\n",
       "19. 'REMEM2'\n",
       "20. 'FAMILY2'\n",
       "21. 'SOCIAL2'\n",
       "22. 'FINANC2'\n",
       "\n",
       "\n"
      ],
      "text/plain": [
       " [1] \"WORK2\"    \"HOBBY2\"   \"BREATH2\"  \"PAIN2\"    \"REST2\"    \"SLEEP2\"  \n",
       " [7] \"APPET2\"   \"NAUSEA2\"  \"VOMIT2\"   \"CONST2\"   \"DIARR2\"   \"TIRED2\"  \n",
       "[13] \"PAINADL2\" \"CONCEN2\"  \"TENSE2\"   \"WORRY2\"   \"IRRIT2\"   \"DEPRES2\" \n",
       "[19] \"REMEM2\"   \"FAMILY2\"  \"SOCIAL2\"  \"FINANC2\" "
      ]
     },
     "metadata": {},
     "output_type": "display_data"
    },
    {
     "data": {
      "text/html": [
       "<ol class=list-inline>\n",
       "\t<li>302</li>\n",
       "\t<li>22</li>\n",
       "</ol>\n"
      ],
      "text/latex": [
       "\\begin{enumerate*}\n",
       "\\item 302\n",
       "\\item 22\n",
       "\\end{enumerate*}\n"
      ],
      "text/markdown": [
       "1. 302\n",
       "2. 22\n",
       "\n",
       "\n"
      ],
      "text/plain": [
       "[1] 302  22"
      ]
     },
     "metadata": {},
     "output_type": "display_data"
    },
    {
     "data": {
      "text/html": [
       "<table>\n",
       "<thead><tr><th scope=col>WORK2</th><th scope=col>HOBBY2</th><th scope=col>BREATH2</th><th scope=col>PAIN2</th><th scope=col>REST2</th><th scope=col>SLEEP2</th><th scope=col>APPET2</th><th scope=col>NAUSEA2</th><th scope=col>VOMIT2</th><th scope=col>CONST2</th><th scope=col>...</th><th scope=col>PAINADL2</th><th scope=col>CONCEN2</th><th scope=col>TENSE2</th><th scope=col>WORRY2</th><th scope=col>IRRIT2</th><th scope=col>DEPRES2</th><th scope=col>REMEM2</th><th scope=col>FAMILY2</th><th scope=col>SOCIAL2</th><th scope=col>FINANC2</th></tr></thead>\n",
       "<tbody>\n",
       "\t<tr><td>3  </td><td>3  </td><td>2  </td><td>3  </td><td>3  </td><td>2  </td><td>1  </td><td>1  </td><td>1  </td><td>1  </td><td>...</td><td>2  </td><td>3  </td><td>1  </td><td>1  </td><td>2  </td><td>1  </td><td>1  </td><td>3  </td><td>2  </td><td>3  </td></tr>\n",
       "\t<tr><td>4  </td><td>4  </td><td>4  </td><td>4  </td><td>4  </td><td>4  </td><td>1  </td><td>2  </td><td>2  </td><td>2  </td><td>...</td><td>3  </td><td>3  </td><td>3  </td><td>3  </td><td>3  </td><td>3  </td><td>3  </td><td>2  </td><td>3  </td><td>3  </td></tr>\n",
       "\t<tr><td>4  </td><td>4  </td><td>4  </td><td>2  </td><td>4  </td><td>2  </td><td>1  </td><td>1  </td><td>1  </td><td>1  </td><td>...</td><td>2  </td><td>3  </td><td>2  </td><td>2  </td><td>2  </td><td>2  </td><td>3  </td><td>3  </td><td>4  </td><td>1  </td></tr>\n",
       "\t<tr><td>4  </td><td>3  </td><td>3  </td><td>3  </td><td>3  </td><td>4  </td><td>2  </td><td>1  </td><td>1  </td><td>1  </td><td>...</td><td>4  </td><td>4  </td><td>4  </td><td>4  </td><td>4  </td><td>4  </td><td>4  </td><td>3  </td><td>3  </td><td>2  </td></tr>\n",
       "\t<tr><td>3  </td><td>3  </td><td>1  </td><td>3  </td><td>3  </td><td>4  </td><td>2  </td><td>2  </td><td>1  </td><td>1  </td><td>...</td><td>2  </td><td>3  </td><td>3  </td><td>2  </td><td>3  </td><td>3  </td><td>3  </td><td>3  </td><td>3  </td><td>1  </td></tr>\n",
       "\t<tr><td>2  </td><td>2  </td><td>2  </td><td>2  </td><td>3  </td><td>1  </td><td>2  </td><td>1  </td><td>1  </td><td>3  </td><td>...</td><td>1  </td><td>1  </td><td>1  </td><td>2  </td><td>1  </td><td>2  </td><td>2  </td><td>3  </td><td>2  </td><td>1  </td></tr>\n",
       "</tbody>\n",
       "</table>\n"
      ],
      "text/latex": [
       "\\begin{tabular}{r|llllllllllllllllllllll}\n",
       " WORK2 & HOBBY2 & BREATH2 & PAIN2 & REST2 & SLEEP2 & APPET2 & NAUSEA2 & VOMIT2 & CONST2 & ... & PAINADL2 & CONCEN2 & TENSE2 & WORRY2 & IRRIT2 & DEPRES2 & REMEM2 & FAMILY2 & SOCIAL2 & FINANC2\\\\\n",
       "\\hline\n",
       "\t 3   & 3   & 2   & 3   & 3   & 2   & 1   & 1   & 1   & 1   & ... & 2   & 3   & 1   & 1   & 2   & 1   & 1   & 3   & 2   & 3  \\\\\n",
       "\t 4   & 4   & 4   & 4   & 4   & 4   & 1   & 2   & 2   & 2   & ... & 3   & 3   & 3   & 3   & 3   & 3   & 3   & 2   & 3   & 3  \\\\\n",
       "\t 4   & 4   & 4   & 2   & 4   & 2   & 1   & 1   & 1   & 1   & ... & 2   & 3   & 2   & 2   & 2   & 2   & 3   & 3   & 4   & 1  \\\\\n",
       "\t 4   & 3   & 3   & 3   & 3   & 4   & 2   & 1   & 1   & 1   & ... & 4   & 4   & 4   & 4   & 4   & 4   & 4   & 3   & 3   & 2  \\\\\n",
       "\t 3   & 3   & 1   & 3   & 3   & 4   & 2   & 2   & 1   & 1   & ... & 2   & 3   & 3   & 2   & 3   & 3   & 3   & 3   & 3   & 1  \\\\\n",
       "\t 2   & 2   & 2   & 2   & 3   & 1   & 2   & 1   & 1   & 3   & ... & 1   & 1   & 1   & 2   & 1   & 2   & 2   & 3   & 2   & 1  \\\\\n",
       "\\end{tabular}\n"
      ],
      "text/markdown": [
       "\n",
       "WORK2 | HOBBY2 | BREATH2 | PAIN2 | REST2 | SLEEP2 | APPET2 | NAUSEA2 | VOMIT2 | CONST2 | ... | PAINADL2 | CONCEN2 | TENSE2 | WORRY2 | IRRIT2 | DEPRES2 | REMEM2 | FAMILY2 | SOCIAL2 | FINANC2 | \n",
       "|---|---|---|---|---|---|\n",
       "| 3   | 3   | 2   | 3   | 3   | 2   | 1   | 1   | 1   | 1   | ... | 2   | 3   | 1   | 1   | 2   | 1   | 1   | 3   | 2   | 3   | \n",
       "| 4   | 4   | 4   | 4   | 4   | 4   | 1   | 2   | 2   | 2   | ... | 3   | 3   | 3   | 3   | 3   | 3   | 3   | 2   | 3   | 3   | \n",
       "| 4   | 4   | 4   | 2   | 4   | 2   | 1   | 1   | 1   | 1   | ... | 2   | 3   | 2   | 2   | 2   | 2   | 3   | 3   | 4   | 1   | \n",
       "| 4   | 3   | 3   | 3   | 3   | 4   | 2   | 1   | 1   | 1   | ... | 4   | 4   | 4   | 4   | 4   | 4   | 4   | 3   | 3   | 2   | \n",
       "| 3   | 3   | 1   | 3   | 3   | 4   | 2   | 2   | 1   | 1   | ... | 2   | 3   | 3   | 2   | 3   | 3   | 3   | 3   | 3   | 1   | \n",
       "| 2   | 2   | 2   | 2   | 3   | 1   | 2   | 1   | 1   | 3   | ... | 1   | 1   | 1   | 2   | 1   | 2   | 2   | 3   | 2   | 1   | \n",
       "\n",
       "\n"
      ],
      "text/plain": [
       "  WORK2 HOBBY2 BREATH2 PAIN2 REST2 SLEEP2 APPET2 NAUSEA2 VOMIT2 CONST2 ...\n",
       "1 3     3      2       3     3     2      1      1       1      1      ...\n",
       "2 4     4      4       4     4     4      1      2       2      2      ...\n",
       "3 4     4      4       2     4     2      1      1       1      1      ...\n",
       "4 4     3      3       3     3     4      2      1       1      1      ...\n",
       "5 3     3      1       3     3     4      2      2       1      1      ...\n",
       "6 2     2      2       2     3     1      2      1       1      3      ...\n",
       "  PAINADL2 CONCEN2 TENSE2 WORRY2 IRRIT2 DEPRES2 REMEM2 FAMILY2 SOCIAL2 FINANC2\n",
       "1 2        3       1      1      2      1       1      3       2       3      \n",
       "2 3        3       3      3      3      3       3      2       3       3      \n",
       "3 2        3       2      2      2      2       3      3       4       1      \n",
       "4 4        4       4      4      4      4       4      3       3       2      \n",
       "5 2        3       3      2      3      3       3      3       3       1      \n",
       "6 1        1       1      2      1      2       2      3       2       1      "
      ]
     },
     "metadata": {},
     "output_type": "display_data"
    }
   ],
   "source": [
    "patient_clus<- select(patient, WORK2, HOBBY2, BREATH2, PAIN2, REST2, SLEEP2, APPET2, NAUSEA2, VOMIT2, CONST2, DIARR2, TIRED2, PAINADL2, CONCEN2, TENSE2, WORRY2, IRRIT2, DEPRES2, REMEM2, FAMILY2, SOCIAL2, FINANC2)\n",
    "names(patient_clus)\n",
    "patient_clus<- na.omit(patient_clus)\n",
    "dim(patient_clus)#302 22  \n",
    "head(patient_clus)"
   ]
  },
  {
   "cell_type": "code",
   "execution_count": 308,
   "metadata": {},
   "outputs": [
    {
     "data": {
      "text/html": [
       "<table>\n",
       "<thead><tr><th scope=col>WORK2</th><th scope=col>HOBBY2</th><th scope=col>BREATH2</th><th scope=col>PAIN2</th><th scope=col>REST2</th><th scope=col>SLEEP2</th><th scope=col>APPET2</th><th scope=col>NAUSEA2</th><th scope=col>VOMIT2</th><th scope=col>CONST2</th><th scope=col>...</th><th scope=col>PAINADL2</th><th scope=col>CONCEN2</th><th scope=col>TENSE2</th><th scope=col>WORRY2</th><th scope=col>IRRIT2</th><th scope=col>DEPRES2</th><th scope=col>REMEM2</th><th scope=col>FAMILY2</th><th scope=col>SOCIAL2</th><th scope=col>FINANC2</th></tr></thead>\n",
       "<tbody>\n",
       "\t<tr><td>2  </td><td>2  </td><td>1  </td><td>2  </td><td>2  </td><td>1  </td><td>1  </td><td>1  </td><td>1  </td><td>1  </td><td>...</td><td>1  </td><td>2  </td><td>1  </td><td>1  </td><td>1  </td><td>1  </td><td>1  </td><td>2  </td><td>1  </td><td>2  </td></tr>\n",
       "\t<tr><td>2  </td><td>2  </td><td>2  </td><td>2  </td><td>2  </td><td>2  </td><td>1  </td><td>1  </td><td>1  </td><td>1  </td><td>...</td><td>2  </td><td>2  </td><td>2  </td><td>2  </td><td>2  </td><td>2  </td><td>2  </td><td>1  </td><td>2  </td><td>2  </td></tr>\n",
       "\t<tr><td>2  </td><td>2  </td><td>2  </td><td>1  </td><td>2  </td><td>1  </td><td>1  </td><td>1  </td><td>1  </td><td>1  </td><td>...</td><td>1  </td><td>2  </td><td>1  </td><td>1  </td><td>1  </td><td>1  </td><td>2  </td><td>2  </td><td>2  </td><td>1  </td></tr>\n",
       "\t<tr><td>2  </td><td>2  </td><td>2  </td><td>2  </td><td>2  </td><td>2  </td><td>1  </td><td>1  </td><td>1  </td><td>1  </td><td>...</td><td>2  </td><td>2  </td><td>2  </td><td>2  </td><td>2  </td><td>2  </td><td>2  </td><td>2  </td><td>2  </td><td>1  </td></tr>\n",
       "\t<tr><td>2  </td><td>2  </td><td>1  </td><td>2  </td><td>2  </td><td>2  </td><td>1  </td><td>1  </td><td>1  </td><td>1  </td><td>...</td><td>1  </td><td>2  </td><td>2  </td><td>1  </td><td>2  </td><td>2  </td><td>2  </td><td>2  </td><td>2  </td><td>1  </td></tr>\n",
       "\t<tr><td>1  </td><td>1  </td><td>1  </td><td>1  </td><td>2  </td><td>1  </td><td>1  </td><td>1  </td><td>1  </td><td>2  </td><td>...</td><td>1  </td><td>1  </td><td>1  </td><td>1  </td><td>1  </td><td>1  </td><td>1  </td><td>2  </td><td>1  </td><td>1  </td></tr>\n",
       "</tbody>\n",
       "</table>\n"
      ],
      "text/latex": [
       "\\begin{tabular}{r|llllllllllllllllllllll}\n",
       " WORK2 & HOBBY2 & BREATH2 & PAIN2 & REST2 & SLEEP2 & APPET2 & NAUSEA2 & VOMIT2 & CONST2 & ... & PAINADL2 & CONCEN2 & TENSE2 & WORRY2 & IRRIT2 & DEPRES2 & REMEM2 & FAMILY2 & SOCIAL2 & FINANC2\\\\\n",
       "\\hline\n",
       "\t 2   & 2   & 1   & 2   & 2   & 1   & 1   & 1   & 1   & 1   & ... & 1   & 2   & 1   & 1   & 1   & 1   & 1   & 2   & 1   & 2  \\\\\n",
       "\t 2   & 2   & 2   & 2   & 2   & 2   & 1   & 1   & 1   & 1   & ... & 2   & 2   & 2   & 2   & 2   & 2   & 2   & 1   & 2   & 2  \\\\\n",
       "\t 2   & 2   & 2   & 1   & 2   & 1   & 1   & 1   & 1   & 1   & ... & 1   & 2   & 1   & 1   & 1   & 1   & 2   & 2   & 2   & 1  \\\\\n",
       "\t 2   & 2   & 2   & 2   & 2   & 2   & 1   & 1   & 1   & 1   & ... & 2   & 2   & 2   & 2   & 2   & 2   & 2   & 2   & 2   & 1  \\\\\n",
       "\t 2   & 2   & 1   & 2   & 2   & 2   & 1   & 1   & 1   & 1   & ... & 1   & 2   & 2   & 1   & 2   & 2   & 2   & 2   & 2   & 1  \\\\\n",
       "\t 1   & 1   & 1   & 1   & 2   & 1   & 1   & 1   & 1   & 2   & ... & 1   & 1   & 1   & 1   & 1   & 1   & 1   & 2   & 1   & 1  \\\\\n",
       "\\end{tabular}\n"
      ],
      "text/markdown": [
       "\n",
       "WORK2 | HOBBY2 | BREATH2 | PAIN2 | REST2 | SLEEP2 | APPET2 | NAUSEA2 | VOMIT2 | CONST2 | ... | PAINADL2 | CONCEN2 | TENSE2 | WORRY2 | IRRIT2 | DEPRES2 | REMEM2 | FAMILY2 | SOCIAL2 | FINANC2 | \n",
       "|---|---|---|---|---|---|\n",
       "| 2   | 2   | 1   | 2   | 2   | 1   | 1   | 1   | 1   | 1   | ... | 1   | 2   | 1   | 1   | 1   | 1   | 1   | 2   | 1   | 2   | \n",
       "| 2   | 2   | 2   | 2   | 2   | 2   | 1   | 1   | 1   | 1   | ... | 2   | 2   | 2   | 2   | 2   | 2   | 2   | 1   | 2   | 2   | \n",
       "| 2   | 2   | 2   | 1   | 2   | 1   | 1   | 1   | 1   | 1   | ... | 1   | 2   | 1   | 1   | 1   | 1   | 2   | 2   | 2   | 1   | \n",
       "| 2   | 2   | 2   | 2   | 2   | 2   | 1   | 1   | 1   | 1   | ... | 2   | 2   | 2   | 2   | 2   | 2   | 2   | 2   | 2   | 1   | \n",
       "| 2   | 2   | 1   | 2   | 2   | 2   | 1   | 1   | 1   | 1   | ... | 1   | 2   | 2   | 1   | 2   | 2   | 2   | 2   | 2   | 1   | \n",
       "| 1   | 1   | 1   | 1   | 2   | 1   | 1   | 1   | 1   | 2   | ... | 1   | 1   | 1   | 1   | 1   | 1   | 1   | 2   | 1   | 1   | \n",
       "\n",
       "\n"
      ],
      "text/plain": [
       "  WORK2 HOBBY2 BREATH2 PAIN2 REST2 SLEEP2 APPET2 NAUSEA2 VOMIT2 CONST2 ...\n",
       "1 2     2      1       2     2     1      1      1       1      1      ...\n",
       "2 2     2      2       2     2     2      1      1       1      1      ...\n",
       "3 2     2      2       1     2     1      1      1       1      1      ...\n",
       "4 2     2      2       2     2     2      1      1       1      1      ...\n",
       "5 2     2      1       2     2     2      1      1       1      1      ...\n",
       "6 1     1      1       1     2     1      1      1       1      2      ...\n",
       "  PAINADL2 CONCEN2 TENSE2 WORRY2 IRRIT2 DEPRES2 REMEM2 FAMILY2 SOCIAL2 FINANC2\n",
       "1 1        2       1      1      1      1       1      2       1       2      \n",
       "2 2        2       2      2      2      2       2      1       2       2      \n",
       "3 1        2       1      1      1      1       2      2       2       1      \n",
       "4 2        2       2      2      2      2       2      2       2       1      \n",
       "5 1        2       2      1      2      2       2      2       2       1      \n",
       "6 1        1       1      1      1      1       1      2       1       1      "
      ]
     },
     "metadata": {},
     "output_type": "display_data"
    }
   ],
   "source": [
    "patient_clusbi<- patient_clus\n",
    "#WORK2\n",
    "patient_clusbi$WORK2[patient_clusbi$WORK2==1 | patient_clusbi$WORK2==2] <- \"1\"\n",
    "patient_clusbi$WORK2[patient_clusbi$WORK2==3 | patient_clusbi$WORK2==4] <- \"2\"\n",
    "#HOBBY2\n",
    "patient_clusbi$HOBBY2[patient_clusbi$HOBBY2==1 | patient_clusbi$HOBBY2==2] <- \"1\"\n",
    "patient_clusbi$HOBBY2[patient_clusbi$HOBBY2==3 | patient_clusbi$HOBBY2==4] <- \"2\"\n",
    "#BREATH2\n",
    "patient_clusbi$BREATH2[patient_clusbi$BREATH2==1 | patient_clusbi$BREATH2==2] <- \"1\"\n",
    "patient_clusbi$BREATH2[patient_clusbi$BREATH2==3 | patient_clusbi$BREATH2==4] <- \"2\"\n",
    "#PAIN2\n",
    "patient_clusbi$PAIN2[patient_clusbi$PAIN2==1 | patient_clusbi$PAIN2==2] <- \"1\"\n",
    "patient_clusbi$PAIN2[patient_clusbi$PAIN2==3 | patient_clusbi$PAIN2==4] <- \"2\"\n",
    "#REST2\n",
    "patient_clusbi$REST2[patient_clusbi$REST2==1 | patient_clusbi$REST2==2] <- \"1\"\n",
    "patient_clusbi$REST2[patient_clusbi$REST2==3 | patient_clusbi$REST2==4] <- \"2\"\n",
    "#SLEEP2\n",
    "patient_clusbi$SLEEP2[patient_clusbi$SLEEP2==1 | patient_clusbi$SLEEP2==2] <- \"1\"\n",
    "patient_clusbi$SLEEP2[patient_clusbi$SLEEP2==3 | patient_clusbi$SLEEP2==4] <- \"2\"\n",
    "#APPET2\n",
    "patient_clusbi$APPET2[patient_clusbi$APPET2==1 | patient_clusbi$APPET2==2] <- \"1\"\n",
    "patient_clusbi$APPET2[patient_clusbi$APPET2==3 | patient_clusbi$APPET2==4] <- \"2\"\n",
    "#NAUSEA2\n",
    "patient_clusbi$NAUSEA2[patient_clusbi$NAUSEA2==1 | patient_clusbi$NAUSEA2==2] <- \"1\"\n",
    "patient_clusbi$NAUSEA2[patient_clusbi$NAUSEA2==3 | patient_clusbi$NAUSEA2==4] <- \"2\"\n",
    "#VOMIT2\n",
    "patient_clusbi$VOMIT2[patient_clusbi$VOMIT2==1 | patient_clusbi$VOMIT2==2] <- \"1\"\n",
    "patient_clusbi$VOMIT2[patient_clusbi$VOMIT2==3 | patient_clusbi$VOMIT2==4] <- \"2\"\n",
    "#CONST2\n",
    "patient_clusbi$CONST2[patient_clusbi$CONST2==1 | patient_clusbi$CONST2==2] <- \"1\"\n",
    "patient_clusbi$CONST2[patient_clusbi$CONST2==3 | patient_clusbi$CONST2==4] <- \"2\"\n",
    "#DIARR2\n",
    "patient_clusbi$DIARR2[patient_clusbi$DIARR2==1 | patient_clusbi$DIARR2==2] <- \"1\"\n",
    "patient_clusbi$DIARR2[patient_clusbi$DIARR2==3 | patient_clusbi$DIARR2==4] <- \"2\"\n",
    "#TIRED2\n",
    "patient_clusbi$TIRED2[patient_clusbi$TIRED2==1 | patient_clusbi$TIRED2==2] <- \"1\"\n",
    "patient_clusbi$TIRED2[patient_clusbi$TIRED2==3 | patient_clusbi$TIRED2==4] <- \"2\"\n",
    "#PAINADL2\n",
    "patient_clusbi$PAINADL2[patient_clusbi$PAINADL2==1 | patient_clusbi$PAINADL2==2] <- \"1\"\n",
    "patient_clusbi$PAINADL2[patient_clusbi$PAINADL2==3 | patient_clusbi$PAINADL2==4] <- \"2\"\n",
    "#CONCEN2\n",
    "patient_clusbi$CONCEN2[patient_clusbi$CONCEN2==1 | patient_clusbi$CONCEN2==2] <- \"1\"\n",
    "patient_clusbi$CONCEN2[patient_clusbi$CONCEN2==3 | patient_clusbi$CONCEN2==4] <- \"2\"\n",
    "#TENSE2\n",
    "patient_clusbi$TENSE2[patient_clusbi$TENSE2==1 | patient_clusbi$TENSE2==2] <- \"1\"\n",
    "patient_clusbi$TENSE2[patient_clusbi$TENSE2==3 | patient_clusbi$TENSE2==4] <- \"2\"\n",
    "#WORRY2\n",
    "patient_clusbi$WORRY2[patient_clusbi$WORRY2==1 | patient_clusbi$WORRY2==2] <- \"1\"\n",
    "patient_clusbi$WORRY2[patient_clusbi$WORRY2==3 | patient_clusbi$WORRY2==4] <- \"2\"\n",
    "#IRRIT2\n",
    "patient_clusbi$IRRIT2[patient_clusbi$IRRIT2==1 | patient_clusbi$IRRIT2==2] <- \"1\"\n",
    "patient_clusbi$IRRIT2[patient_clusbi$IRRIT2==3 | patient_clusbi$IRRIT2==4] <- \"2\"\n",
    "#DEPRES2\n",
    "patient_clusbi$DEPRES2[patient_clusbi$DEPRES2==1 | patient_clusbi$DEPRES2==2] <- \"1\"\n",
    "patient_clusbi$DEPRES2[patient_clusbi$DEPRES2==3 | patient_clusbi$DEPRES2==4] <- \"2\"\n",
    "#REMEM2\n",
    "patient_clusbi$REMEM2[patient_clusbi$REMEM2==1 | patient_clusbi$REMEM2==2] <- \"1\"\n",
    "patient_clusbi$REMEM2[patient_clusbi$REMEM2==3 | patient_clusbi$REMEM2==4] <- \"2\"\n",
    "#FAMILY2\n",
    "patient_clusbi$FAMILY2[patient_clusbi$FAMILY2==1 | patient_clusbi$FAMILY2==2] <- \"1\"\n",
    "patient_clusbi$FAMILY2[patient_clusbi$FAMILY2==3 | patient_clusbi$FAMILY2==4] <- \"2\"\n",
    "#SOCIAL2\n",
    "patient_clusbi$SOCIAL2[patient_clusbi$SOCIAL2==1 | patient_clusbi$SOCIAL2==2] <- \"1\"\n",
    "patient_clusbi$SOCIAL2[patient_clusbi$SOCIAL2==3 | patient_clusbi$SOCIAL2==4] <- \"2\"\n",
    "#FINANC2\n",
    "patient_clusbi$FINANC2[patient_clusbi$FINANC2==1 | patient_clusbi$FINANC2==2] <- \"1\"\n",
    "patient_clusbi$FINANC2[patient_clusbi$FINANC2==3 | patient_clusbi$FINANC2==4] <- \"2\"\n",
    "head(patient_clusbi)"
   ]
  },
  {
   "cell_type": "code",
   "execution_count": 309,
   "metadata": {
    "collapsed": true
   },
   "outputs": [],
   "source": [
    "#WORK2\n",
    "patient_clusbi$WORK2<- as.numeric(patient_clusbi$WORK2)\n",
    "#HOBBY2\n",
    "patient_clusbi$HOBBY2<- as.numeric(patient_clusbi$HOBBY2)\n",
    "#BREATH2\n",
    "patient_clusbi$BREATH2<- as.numeric(patient_clusbi$BREATH2)\n",
    "#PAIN2\n",
    "patient_clusbi$PAIN2<- as.numeric(patient_clusbi$PAIN2)\n",
    "#REST2\n",
    "patient_clusbi$REST2<- as.numeric(patient_clusbi$REST2)\n",
    "#SLEEP2\n",
    "patient_clusbi$SLEEP2<- as.numeric(patient_clusbi$SLEEP2)\n",
    "#APPET2\n",
    "patient_clusbi$APPET2<- as.numeric(patient_clusbi$APPET2)\n",
    "#NAUSEA2\n",
    "patient_clusbi$NAUSEA2<- as.numeric(patient_clusbi$NAUSEA2)\n",
    "#VOMIT2\n",
    "patient_clusbi$VOMIT2<- as.numeric(patient_clusbi$VOMIT2)\n",
    "#CONST2\n",
    "patient_clusbi$CONST2<- as.numeric(patient_clusbi$CONST2)\n",
    "#DIARR2\n",
    "patient_clusbi$DIARR2<- as.numeric(patient_clusbi$DIARR2)\n",
    "#TIRED2\n",
    "patient_clusbi$TIRED2<- as.numeric(patient_clusbi$TIRED2)\n",
    "#PAINADL2\n",
    "patient_clusbi$PAINADL2<- as.numeric(patient_clusbi$PAINADL2)\n",
    "#CONCEN2\n",
    "patient_clusbi$CONCEN2<- as.numeric(patient_clusbi$CONCEN2)\n",
    "#TENSE2\n",
    "patient_clusbi$TENSE2<- as.numeric(patient_clusbi$TENSE2)\n",
    "#WORRY2\n",
    "patient_clusbi$WORRY2<- as.numeric(patient_clusbi$WORRY2)\n",
    "#IRRIT2\n",
    "patient_clusbi$IRRIT2<- as.numeric(patient_clusbi$IRRIT2)\n",
    "#DEPRES2\n",
    "patient_clusbi$DEPRES2<- as.numeric(patient_clusbi$DEPRES2)\n",
    "#REMEM2\n",
    "patient_clusbi$REMEM2<- as.numeric(patient_clusbi$REMEM2)\n",
    "#FAMILY2\n",
    "patient_clusbi$FAMILY2<- as.numeric(patient_clusbi$FAMILY2)\n",
    "#SOCIAL2\n",
    "patient_clusbi$SOCIAL2<- as.numeric(patient_clusbi$SOCIAL2)\n",
    "#FINANC2\n",
    "patient_clusbi$FINANC2<- as.numeric(patient_clusbi$FINANC2)"
   ]
  },
  {
   "cell_type": "code",
   "execution_count": 310,
   "metadata": {},
   "outputs": [
    {
     "data": {
      "text/plain": [
       "cbind(WORK2, HOBBY2, BREATH2, PAIN2, REST2, SLEEP2, APPET2, NAUSEA2, \n",
       "    VOMIT2, CONST2, DIARR2, TIRED2, PAINADL2, CONCEN2, TENSE2, \n",
       "    WORRY2, IRRIT2, DEPRES2, REMEM2, FAMILY2, SOCIAL2, FINANC2) ~ \n",
       "    1"
      ]
     },
     "metadata": {},
     "output_type": "display_data"
    }
   ],
   "source": [
    "set.seed(42)\n",
    "pbind=cbind(WORK2,HOBBY2,BREATH2,PAIN2,REST2,SLEEP2,APPET2,NAUSEA2,VOMIT2,CONST2,DIARR2,TIRED2,PAINADL2,CONCEN2,TENSE2,WORRY2,IRRIT2,DEPRES2,REMEM2,FAMILY2,SOCIAL2,FINANC2)~1\n",
    "pbind"
   ]
  },
  {
   "cell_type": "code",
   "execution_count": 311,
   "metadata": {
    "collapsed": true
   },
   "outputs": [],
   "source": [
    "k2=poLCA(pbind, data=patient_clusbi, nclass=2,  maxiter=200, nrep =50,verbose=F)"
   ]
  },
  {
   "cell_type": "code",
   "execution_count": 312,
   "metadata": {},
   "outputs": [
    {
     "data": {
      "text/html": [
       "5921.20438800557"
      ],
      "text/latex": [
       "5921.20438800557"
      ],
      "text/markdown": [
       "5921.20438800557"
      ],
      "text/plain": [
       "[1] 5921.204"
      ]
     },
     "metadata": {},
     "output_type": "display_data"
    }
   ],
   "source": [
    "k2$bic#5921.20438800557"
   ]
  },
  {
   "cell_type": "code",
   "execution_count": 313,
   "metadata": {
    "collapsed": true
   },
   "outputs": [],
   "source": [
    "k3=poLCA(pbind, data=patient_clusbi, nclass=3, maxiter=200, nrep =50,verbose=F)"
   ]
  },
  {
   "cell_type": "code",
   "execution_count": 314,
   "metadata": {},
   "outputs": [
    {
     "data": {
      "text/html": [
       "5738.66006190546"
      ],
      "text/latex": [
       "5738.66006190546"
      ],
      "text/markdown": [
       "5738.66006190546"
      ],
      "text/plain": [
       "[1] 5738.66"
      ]
     },
     "metadata": {},
     "output_type": "display_data"
    }
   ],
   "source": [
    "k3$bic#5738.66006190546"
   ]
  },
  {
   "cell_type": "code",
   "execution_count": 315,
   "metadata": {
    "collapsed": true
   },
   "outputs": [],
   "source": [
    "k4=poLCA(pbind, data=patient_clusbi, nclass=4, maxiter=200, nrep =50,verbose=F)"
   ]
  },
  {
   "cell_type": "code",
   "execution_count": 316,
   "metadata": {},
   "outputs": [
    {
     "data": {
      "text/html": [
       "5726.57282290333"
      ],
      "text/latex": [
       "5726.57282290333"
      ],
      "text/markdown": [
       "5726.57282290333"
      ],
      "text/plain": [
       "[1] 5726.573"
      ]
     },
     "metadata": {},
     "output_type": "display_data"
    }
   ],
   "source": [
    "k4$bic #5726.57282290333"
   ]
  },
  {
   "cell_type": "code",
   "execution_count": 317,
   "metadata": {
    "collapsed": true
   },
   "outputs": [],
   "source": [
    "k5=poLCA(pbind, data=patient_clusbi, nclass=5, maxiter=200, nrep =50,verbose=F)"
   ]
  },
  {
   "cell_type": "code",
   "execution_count": 318,
   "metadata": {},
   "outputs": [
    {
     "data": {
      "text/html": [
       "5749.20947996135"
      ],
      "text/latex": [
       "5749.20947996135"
      ],
      "text/markdown": [
       "5749.20947996135"
      ],
      "text/plain": [
       "[1] 5749.209"
      ]
     },
     "metadata": {},
     "output_type": "display_data"
    }
   ],
   "source": [
    "k5$bic#5749.20947996148"
   ]
  },
  {
   "cell_type": "code",
   "execution_count": 320,
   "metadata": {
    "collapsed": true
   },
   "outputs": [],
   "source": [
    "k6=poLCA(pbind, data=patient_clusbi, nclass=6, maxiter=200, nrep =50,verbose=F)"
   ]
  },
  {
   "cell_type": "code",
   "execution_count": 321,
   "metadata": {},
   "outputs": [
    {
     "data": {
      "text/html": [
       "5817.56377820257"
      ],
      "text/latex": [
       "5817.56377820257"
      ],
      "text/markdown": [
       "5817.56377820257"
      ],
      "text/plain": [
       "[1] 5817.564"
      ]
     },
     "metadata": {},
     "output_type": "display_data"
    }
   ],
   "source": [
    "k6$bic#5817.56"
   ]
  },
  {
   "cell_type": "code",
   "execution_count": null,
   "metadata": {
    "collapsed": true
   },
   "outputs": [],
   "source": [
    "k7=poLCA(pbind, data=patient_clusbi, nclass=7, maxiter=200, nrep =50,verbose=F)"
   ]
  },
  {
   "cell_type": "code",
   "execution_count": null,
   "metadata": {},
   "outputs": [],
   "source": [
    "k7$bic#5891.52232940461"
   ]
  },
  {
   "cell_type": "code",
   "execution_count": null,
   "metadata": {
    "collapsed": true
   },
   "outputs": [],
   "source": [
    "k8=poLCA(pbind, data=patient_clusbi, nclass=8, maxiter=200, nrep =50,verbose=F)"
   ]
  },
  {
   "cell_type": "code",
   "execution_count": null,
   "metadata": {},
   "outputs": [],
   "source": [
    "k8$bic#5865.80201704499"
   ]
  },
  {
   "cell_type": "code",
   "execution_count": null,
   "metadata": {
    "collapsed": true
   },
   "outputs": [],
   "source": [
    "k9=poLCA(pbind, data=patient_clusbi, nclass=9, maxiter=200, nrep =50,verbose=F)"
   ]
  },
  {
   "cell_type": "code",
   "execution_count": null,
   "metadata": {},
   "outputs": [],
   "source": [
    "k9$bic"
   ]
  },
  {
   "cell_type": "code",
   "execution_count": null,
   "metadata": {
    "collapsed": true
   },
   "outputs": [],
   "source": []
  },
  {
   "cell_type": "code",
   "execution_count": 324,
   "metadata": {},
   "outputs": [
    {
     "data": {
      "text/plain": [
       "Conditional item response (column) probabilities,\n",
       " by outcome variable, for each class (row) \n",
       " \n",
       "$WORK2\n",
       "           Pr(1)  Pr(2)\n",
       "class 1:  0.8754 0.1246\n",
       "class 2:  0.0000 1.0000\n",
       "class 3:  0.1882 0.8118\n",
       "class 4:  0.7725 0.2275\n",
       "\n",
       "$HOBBY2\n",
       "           Pr(1)  Pr(2)\n",
       "class 1:  0.9224 0.0776\n",
       "class 2:  0.0664 0.9336\n",
       "class 3:  0.2040 0.7960\n",
       "class 4:  0.7877 0.2123\n",
       "\n",
       "$BREATH2\n",
       "           Pr(1)  Pr(2)\n",
       "class 1:  0.9495 0.0505\n",
       "class 2:  0.4928 0.5072\n",
       "class 3:  0.7982 0.2018\n",
       "class 4:  0.8212 0.1788\n",
       "\n",
       "$PAIN2\n",
       "           Pr(1)  Pr(2)\n",
       "class 1:  0.9656 0.0344\n",
       "class 2:  0.3246 0.6754\n",
       "class 3:  0.6505 0.3495\n",
       "class 4:  0.7906 0.2094\n",
       "\n",
       "$REST2\n",
       "           Pr(1)  Pr(2)\n",
       "class 1:  0.9296 0.0704\n",
       "class 2:  0.0155 0.9845\n",
       "class 3:  0.1935 0.8065\n",
       "class 4:  0.8064 0.1936\n",
       "\n",
       "$SLEEP2\n",
       "           Pr(1)  Pr(2)\n",
       "class 1:  0.8818 0.1182\n",
       "class 2:  0.1675 0.8325\n",
       "class 3:  0.8396 0.1604\n",
       "class 4:  0.6763 0.3237\n",
       "\n",
       "$APPET2\n",
       "           Pr(1)  Pr(2)\n",
       "class 1:  0.9656 0.0344\n",
       "class 2:  0.6048 0.3952\n",
       "class 3:  0.8259 0.1741\n",
       "class 4:  0.8210 0.1790\n",
       "\n",
       "$NAUSEA2\n",
       "           Pr(1)  Pr(2)\n",
       "class 1:  0.9771 0.0229\n",
       "class 2:  0.5947 0.4053\n",
       "class 3:  0.9029 0.0971\n",
       "class 4:  0.9594 0.0406\n",
       "\n",
       "$VOMIT2\n",
       "           Pr(1)  Pr(2)\n",
       "class 1:  1.0000 0.0000\n",
       "class 2:  0.7958 0.2042\n",
       "class 3:  0.9652 0.0348\n",
       "class 4:  1.0000 0.0000\n",
       "\n",
       "$CONST2\n",
       "           Pr(1)  Pr(2)\n",
       "class 1:  0.9297 0.0703\n",
       "class 2:  0.5834 0.4166\n",
       "class 3:  0.8300 0.1700\n",
       "class 4:  0.8751 0.1249\n",
       "\n",
       "$DIARR2\n",
       "           Pr(1)  Pr(2)\n",
       "class 1:  0.9774 0.0226\n",
       "class 2:  0.8527 0.1473\n",
       "class 3:  0.9526 0.0474\n",
       "class 4:  0.9227 0.0773\n",
       "\n",
       "$TIRED2\n",
       "           Pr(1)  Pr(2)\n",
       "class 1:  0.8349 0.1651\n",
       "class 2:  0.0185 0.9815\n",
       "class 3:  0.3013 0.6987\n",
       "class 4:  0.5536 0.4464\n",
       "\n",
       "$PAINADL2\n",
       "           Pr(1)  Pr(2)\n",
       "class 1:  1.0000 0.0000\n",
       "class 2:  0.3326 0.6674\n",
       "class 3:  0.7037 0.2963\n",
       "class 4:  0.9291 0.0709\n",
       "\n",
       "$CONCEN2\n",
       "           Pr(1)  Pr(2)\n",
       "class 1:  1.0000 0.0000\n",
       "class 2:  0.4094 0.5906\n",
       "class 3:  0.8299 0.1701\n",
       "class 4:  0.7453 0.2547\n",
       "\n",
       "$TENSE2\n",
       "           Pr(1)  Pr(2)\n",
       "class 1:  0.9896 0.0104\n",
       "class 2:  0.2187 0.7813\n",
       "class 3:  0.9403 0.0597\n",
       "class 4:  0.3778 0.6222\n",
       "\n",
       "$WORRY2\n",
       "           Pr(1)  Pr(2)\n",
       "class 1:  0.9370 0.0630\n",
       "class 2:  0.2042 0.7958\n",
       "class 3:  0.8304 0.1696\n",
       "class 4:  0.0000 1.0000\n",
       "\n",
       "$IRRIT2\n",
       "           Pr(1)  Pr(2)\n",
       "class 1:  0.9894 0.0106\n",
       "class 2:  0.3995 0.6005\n",
       "class 3:  0.9076 0.0924\n",
       "class 4:  0.6119 0.3881\n",
       "\n",
       "$DEPRES2\n",
       "           Pr(1)  Pr(2)\n",
       "class 1:  1.0000 0.0000\n",
       "class 2:  0.3877 0.6123\n",
       "class 3:  0.9692 0.0308\n",
       "class 4:  0.6227 0.3773\n",
       "\n",
       "$REMEM2\n",
       "           Pr(1)  Pr(2)\n",
       "class 1:  0.9674 0.0326\n",
       "class 2:  0.5986 0.4014\n",
       "class 3:  0.8811 0.1189\n",
       "class 4:  0.8400 0.1600\n",
       "\n",
       "$FAMILY2\n",
       "           Pr(1)  Pr(2)\n",
       "class 1:  0.9785 0.0215\n",
       "class 2:  0.1312 0.8688\n",
       "class 3:  0.6623 0.3377\n",
       "class 4:  0.9643 0.0357\n",
       "\n",
       "$SOCIAL2\n",
       "           Pr(1)  Pr(2)\n",
       "class 1:  0.9535 0.0465\n",
       "class 2:  0.0641 0.9359\n",
       "class 3:  0.2744 0.7256\n",
       "class 4:  0.8395 0.1605\n",
       "\n",
       "$FINANC2\n",
       "           Pr(1)  Pr(2)\n",
       "class 1:  0.9385 0.0615\n",
       "class 2:  0.6126 0.3874\n",
       "class 3:  0.8592 0.1408\n",
       "class 4:  0.8548 0.1452\n",
       "\n",
       "Estimated class population shares \n",
       " 0.4008 0.2277 0.2813 0.0902 \n",
       " \n",
       "Predicted class memberships (by modal posterior prob.) \n",
       " 0.404 0.2285 0.2815 0.0861 \n",
       " \n",
       "========================================================= \n",
       "Fit for 4 latent classes: \n",
       "========================================================= \n",
       "number of observations: 302 \n",
       "number of estimated parameters: 91 \n",
       "residual degrees of freedom: 211 \n",
       "maximum log-likelihood: -2603.462 \n",
       " \n",
       "AIC(4): 5388.924\n",
       "BIC(4): 5726.573\n",
       "G^2(4): 2312.886 (Likelihood ratio/deviance statistic) \n",
       "X^2(4): 3981666 (Chi-square goodness of fit) \n",
       " "
      ]
     },
     "metadata": {},
     "output_type": "display_data"
    }
   ],
   "source": [
    "k4"
   ]
  },
  {
   "cell_type": "code",
   "execution_count": 326,
   "metadata": {
    "scrolled": true
   },
   "outputs": [
    {
     "data": {},
     "metadata": {},
     "output_type": "display_data"
    },
    {
     "data": {
      "image/png": "[encoded data removed]",
      "text/plain": [
       "plot without title"
      ]
     },
     "metadata": {},
     "output_type": "display_data"
    }
   ],
   "source": [
    "#Plotting the probabilities of yes for each of the 13 items is not easy. Here is how i do it in R, using a parallel coordinate plot (Lecture 5).\n",
    "library(GGally)\n",
    "cb=cbind(k4$probs[[1]][,2], k4$probs[[2]][,2],k4$probs[[3]][,2],\n",
    "         k4$probs[[4]][,2], k4$probs[[5]][,2], k4$probs[[6]][,2],\n",
    "         k4$probs[[7]][,2], k4$probs[[8]][,2], k4$probs[[9]][,2],\n",
    "         k4$probs[[10]][,2],k4$probs[[11]][,2], k4$probs[[12]][,2],\n",
    "         k4$probs[[13]][,2],k4$probs[[14]][,2], k4$probs[[15]][,2],\n",
    "         k4$probs[[16]][,2],k4$probs[[17]][,2], k4$probs[[18]][,2],\n",
    "         k4$probs[[19]][,2],k4$probs[[20]][,2], k4$probs[[21]][,2],\n",
    "         k4$probs[[22]][,2], factor(c(1,2,3,4))) \n",
    "colnames(cb)=c(\"WORK2\", \"HOBBY2\",\"BREATH2\",\"PAIN2\",\"REST2\",\"SLEEP2\",\"APPET2\",\"NAUSEA2\",\"VOMIT2\",\"CONST2\",\"DIARR2\",\"TIRED2\",\"PAINADL2\",\"CONCEN2\",\"TENSE2\",\"WORRY2\",\"IRRIT2\",\"DEPRES2\",\"REMEM2\",\"FAMILY2\",\"SOCIAL2\",\"FINANC2\",\"id\")\n",
    "ggparcoord(cb,columns=1:22, groupColumn=\"id\", scale = 'globalminmax', title=\"probabilities of yes response for each of the 4 classes, by item\")"
   ]
  },
  {
   "cell_type": "code",
   "execution_count": 325,
   "metadata": {},
   "outputs": [
    {
     "data": {
      "text/html": [
       "<table>\n",
       "<thead><tr><th></th><th scope=col>WORK2</th><th scope=col>HOBBY2</th><th scope=col>BREATH2</th><th scope=col>PAIN2</th><th scope=col>REST2</th><th scope=col>SLEEP2</th><th scope=col>APPET2</th><th scope=col>NAUSEA2</th><th scope=col>VOMIT2</th><th scope=col>CONST2</th><th scope=col>...</th><th scope=col>CONCEN2</th><th scope=col>TENSE2</th><th scope=col>WORRY2</th><th scope=col>IRRIT2</th><th scope=col>DEPRES2</th><th scope=col>REMEM2</th><th scope=col>FAMILY2</th><th scope=col>SOCIAL2</th><th scope=col>FINANC2</th><th scope=col>id</th></tr></thead>\n",
       "<tbody>\n",
       "\t<tr><th scope=row>class 1: </th><td>0.1245543    </td><td>0.07760686   </td><td>0.05047878   </td><td>0.03439332   </td><td>0.07035462   </td><td>0.1182202    </td><td>0.03435888   </td><td>0.02293055   </td><td>1.539501e-239</td><td>0.07034686   </td><td>...          </td><td>2.970671e-143</td><td>0.01035005   </td><td>0.06298239   </td><td>0.01055568   </td><td>2.472201e-193</td><td>0.03258175   </td><td>0.02147263   </td><td>0.04649237   </td><td>0.06150421   </td><td>1            </td></tr>\n",
       "\t<tr><th scope=row>class 2: </th><td>1.0000000    </td><td>0.93364403   </td><td>0.50718120   </td><td>0.67536309   </td><td>0.98448939   </td><td>0.8325242    </td><td>0.39515654   </td><td>0.40533414   </td><td> 2.042155e-01</td><td>0.41656129   </td><td>...          </td><td> 5.906292e-01</td><td>0.78129630   </td><td>0.79580193   </td><td>0.60054357   </td><td> 6.123311e-01</td><td>0.40136862   </td><td>0.86876499   </td><td>0.93587822   </td><td>0.38735305   </td><td>2            </td></tr>\n",
       "\t<tr><th scope=row>class 3: </th><td>0.8117790    </td><td>0.79600403   </td><td>0.20180139   </td><td>0.34951925   </td><td>0.80648027   </td><td>0.1603710    </td><td>0.17411767   </td><td>0.09705306   </td><td> 3.480891e-02</td><td>0.16995653   </td><td>...          </td><td> 1.700505e-01</td><td>0.05965621   </td><td>0.16960440   </td><td>0.09244208   </td><td> 3.076462e-02</td><td>0.11886206   </td><td>0.33769144   </td><td>0.72564143   </td><td>0.14082509   </td><td>3            </td></tr>\n",
       "\t<tr><th scope=row>class 4: </th><td>0.2274916    </td><td>0.21228087   </td><td>0.17876620   </td><td>0.20935022   </td><td>0.19361488   </td><td>0.3236627    </td><td>0.17899783   </td><td>0.04062504   </td><td>9.626996e-203</td><td>0.12488166   </td><td>...          </td><td> 2.547000e-01</td><td>0.62224865   </td><td>1.00000000   </td><td>0.38805982   </td><td> 3.772896e-01</td><td>0.15998064   </td><td>0.03571455   </td><td>0.16051861   </td><td>0.14519883   </td><td>4            </td></tr>\n",
       "</tbody>\n",
       "</table>\n"
      ],
      "text/latex": [
       "\\begin{tabular}{r|lllllllllllllllllllllll}\n",
       "  & WORK2 & HOBBY2 & BREATH2 & PAIN2 & REST2 & SLEEP2 & APPET2 & NAUSEA2 & VOMIT2 & CONST2 & ... & CONCEN2 & TENSE2 & WORRY2 & IRRIT2 & DEPRES2 & REMEM2 & FAMILY2 & SOCIAL2 & FINANC2 & id\\\\\n",
       "\\hline\n",
       "\tclass 1:  & 0.1245543     & 0.07760686    & 0.05047878    & 0.03439332    & 0.07035462    & 0.1182202     & 0.03435888    & 0.02293055    & 1.539501e-239 & 0.07034686    & ...           & 2.970671e-143 & 0.01035005    & 0.06298239    & 0.01055568    & 2.472201e-193 & 0.03258175    & 0.02147263    & 0.04649237    & 0.06150421    & 1            \\\\\n",
       "\tclass 2:  & 1.0000000     & 0.93364403    & 0.50718120    & 0.67536309    & 0.98448939    & 0.8325242     & 0.39515654    & 0.40533414    &  2.042155e-01 & 0.41656129    & ...           &  5.906292e-01 & 0.78129630    & 0.79580193    & 0.60054357    &  6.123311e-01 & 0.40136862    & 0.86876499    & 0.93587822    & 0.38735305    & 2            \\\\\n",
       "\tclass 3:  & 0.8117790     & 0.79600403    & 0.20180139    & 0.34951925    & 0.80648027    & 0.1603710     & 0.17411767    & 0.09705306    &  3.480891e-02 & 0.16995653    & ...           &  1.700505e-01 & 0.05965621    & 0.16960440    & 0.09244208    &  3.076462e-02 & 0.11886206    & 0.33769144    & 0.72564143    & 0.14082509    & 3            \\\\\n",
       "\tclass 4:  & 0.2274916     & 0.21228087    & 0.17876620    & 0.20935022    & 0.19361488    & 0.3236627     & 0.17899783    & 0.04062504    & 9.626996e-203 & 0.12488166    & ...           &  2.547000e-01 & 0.62224865    & 1.00000000    & 0.38805982    &  3.772896e-01 & 0.15998064    & 0.03571455    & 0.16051861    & 0.14519883    & 4            \\\\\n",
       "\\end{tabular}\n"
      ],
      "text/markdown": [
       "\n",
       "| <!--/--> | WORK2 | HOBBY2 | BREATH2 | PAIN2 | REST2 | SLEEP2 | APPET2 | NAUSEA2 | VOMIT2 | CONST2 | ... | CONCEN2 | TENSE2 | WORRY2 | IRRIT2 | DEPRES2 | REMEM2 | FAMILY2 | SOCIAL2 | FINANC2 | id | \n",
       "|---|---|---|---|\n",
       "| class 1:  | 0.1245543     | 0.07760686    | 0.05047878    | 0.03439332    | 0.07035462    | 0.1182202     | 0.03435888    | 0.02293055    | 1.539501e-239 | 0.07034686    | ...           | 2.970671e-143 | 0.01035005    | 0.06298239    | 0.01055568    | 2.472201e-193 | 0.03258175    | 0.02147263    | 0.04649237    | 0.06150421    | 1             | \n",
       "| class 2:  | 1.0000000     | 0.93364403    | 0.50718120    | 0.67536309    | 0.98448939    | 0.8325242     | 0.39515654    | 0.40533414    |  2.042155e-01 | 0.41656129    | ...           |  5.906292e-01 | 0.78129630    | 0.79580193    | 0.60054357    |  6.123311e-01 | 0.40136862    | 0.86876499    | 0.93587822    | 0.38735305    | 2             | \n",
       "| class 3:  | 0.8117790     | 0.79600403    | 0.20180139    | 0.34951925    | 0.80648027    | 0.1603710     | 0.17411767    | 0.09705306    |  3.480891e-02 | 0.16995653    | ...           |  1.700505e-01 | 0.05965621    | 0.16960440    | 0.09244208    |  3.076462e-02 | 0.11886206    | 0.33769144    | 0.72564143    | 0.14082509    | 3             | \n",
       "| class 4:  | 0.2274916     | 0.21228087    | 0.17876620    | 0.20935022    | 0.19361488    | 0.3236627     | 0.17899783    | 0.04062504    | 9.626996e-203 | 0.12488166    | ...           |  2.547000e-01 | 0.62224865    | 1.00000000    | 0.38805982    |  3.772896e-01 | 0.15998064    | 0.03571455    | 0.16051861    | 0.14519883    | 4             | \n",
       "\n",
       "\n"
      ],
      "text/plain": [
       "          WORK2     HOBBY2     BREATH2    PAIN2      REST2      SLEEP2   \n",
       "class 1:  0.1245543 0.07760686 0.05047878 0.03439332 0.07035462 0.1182202\n",
       "class 2:  1.0000000 0.93364403 0.50718120 0.67536309 0.98448939 0.8325242\n",
       "class 3:  0.8117790 0.79600403 0.20180139 0.34951925 0.80648027 0.1603710\n",
       "class 4:  0.2274916 0.21228087 0.17876620 0.20935022 0.19361488 0.3236627\n",
       "          APPET2     NAUSEA2    VOMIT2        CONST2     ... CONCEN2      \n",
       "class 1:  0.03435888 0.02293055 1.539501e-239 0.07034686 ... 2.970671e-143\n",
       "class 2:  0.39515654 0.40533414  2.042155e-01 0.41656129 ...  5.906292e-01\n",
       "class 3:  0.17411767 0.09705306  3.480891e-02 0.16995653 ...  1.700505e-01\n",
       "class 4:  0.17899783 0.04062504 9.626996e-203 0.12488166 ...  2.547000e-01\n",
       "          TENSE2     WORRY2     IRRIT2     DEPRES2       REMEM2     FAMILY2   \n",
       "class 1:  0.01035005 0.06298239 0.01055568 2.472201e-193 0.03258175 0.02147263\n",
       "class 2:  0.78129630 0.79580193 0.60054357  6.123311e-01 0.40136862 0.86876499\n",
       "class 3:  0.05965621 0.16960440 0.09244208  3.076462e-02 0.11886206 0.33769144\n",
       "class 4:  0.62224865 1.00000000 0.38805982  3.772896e-01 0.15998064 0.03571455\n",
       "          SOCIAL2    FINANC2    id\n",
       "class 1:  0.04649237 0.06150421 1 \n",
       "class 2:  0.93587822 0.38735305 2 \n",
       "class 3:  0.72564143 0.14082509 3 \n",
       "class 4:  0.16051861 0.14519883 4 "
      ]
     },
     "metadata": {},
     "output_type": "display_data"
    }
   ],
   "source": [
    "cb"
   ]
  },
  {
   "cell_type": "code",
   "execution_count": null,
   "metadata": {
    "collapsed": true
   },
   "outputs": [],
   "source": [
    "k4$P"
   ]
  },
  {
   "cell_type": "code",
   "execution_count": 333,
   "metadata": {},
   "outputs": [
    {
     "data": {
      "text/html": [
       "<ol class=list-inline>\n",
       "\t<li>295</li>\n",
       "\t<li>25</li>\n",
       "</ol>\n"
      ],
      "text/latex": [
       "\\begin{enumerate*}\n",
       "\\item 295\n",
       "\\item 25\n",
       "\\end{enumerate*}\n"
      ],
      "text/markdown": [
       "1. 295\n",
       "2. 25\n",
       "\n",
       "\n"
      ],
      "text/plain": [
       "[1] 295  25"
      ]
     },
     "metadata": {},
     "output_type": "display_data"
    },
    {
     "data": {
      "text/html": [
       "<table>\n",
       "<thead><tr><th scope=col>WORK2</th><th scope=col>HOBBY2</th><th scope=col>BREATH2</th><th scope=col>PAIN2</th><th scope=col>REST2</th><th scope=col>SLEEP2</th><th scope=col>APPET2</th><th scope=col>NAUSEA2</th><th scope=col>VOMIT2</th><th scope=col>CONST2</th><th scope=col>...</th><th scope=col>PAINADL2</th><th scope=col>CONCEN2</th><th scope=col>TENSE2</th><th scope=col>WORRY2</th><th scope=col>IRRIT2</th><th scope=col>DEPRES2</th><th scope=col>REMEM2</th><th scope=col>FAMILY2</th><th scope=col>SOCIAL2</th><th scope=col>FINANC2</th></tr></thead>\n",
       "<tbody>\n",
       "\t<tr><td>2  </td><td>2  </td><td>1  </td><td>2  </td><td>2  </td><td>1  </td><td>1  </td><td>1  </td><td>1  </td><td>1  </td><td>...</td><td>1  </td><td>2  </td><td>1  </td><td>1  </td><td>1  </td><td>1  </td><td>1  </td><td>2  </td><td>1  </td><td>2  </td></tr>\n",
       "\t<tr><td>2  </td><td>2  </td><td>2  </td><td>2  </td><td>2  </td><td>2  </td><td>1  </td><td>1  </td><td>1  </td><td>1  </td><td>...</td><td>2  </td><td>2  </td><td>2  </td><td>2  </td><td>2  </td><td>2  </td><td>2  </td><td>1  </td><td>2  </td><td>2  </td></tr>\n",
       "\t<tr><td>2  </td><td>2  </td><td>2  </td><td>1  </td><td>2  </td><td>1  </td><td>1  </td><td>1  </td><td>1  </td><td>1  </td><td>...</td><td>1  </td><td>2  </td><td>1  </td><td>1  </td><td>1  </td><td>1  </td><td>2  </td><td>2  </td><td>2  </td><td>1  </td></tr>\n",
       "\t<tr><td>2  </td><td>2  </td><td>2  </td><td>2  </td><td>2  </td><td>2  </td><td>1  </td><td>1  </td><td>1  </td><td>1  </td><td>...</td><td>2  </td><td>2  </td><td>2  </td><td>2  </td><td>2  </td><td>2  </td><td>2  </td><td>2  </td><td>2  </td><td>1  </td></tr>\n",
       "\t<tr><td>2  </td><td>2  </td><td>1  </td><td>2  </td><td>2  </td><td>2  </td><td>1  </td><td>1  </td><td>1  </td><td>1  </td><td>...</td><td>1  </td><td>2  </td><td>2  </td><td>1  </td><td>2  </td><td>2  </td><td>2  </td><td>2  </td><td>2  </td><td>1  </td></tr>\n",
       "\t<tr><td>1  </td><td>1  </td><td>1  </td><td>1  </td><td>2  </td><td>1  </td><td>1  </td><td>1  </td><td>1  </td><td>2  </td><td>...</td><td>1  </td><td>1  </td><td>1  </td><td>1  </td><td>1  </td><td>1  </td><td>1  </td><td>2  </td><td>1  </td><td>1  </td></tr>\n",
       "</tbody>\n",
       "</table>\n"
      ],
      "text/latex": [
       "\\begin{tabular}{r|llllllllllllllllllllll}\n",
       " WORK2 & HOBBY2 & BREATH2 & PAIN2 & REST2 & SLEEP2 & APPET2 & NAUSEA2 & VOMIT2 & CONST2 & ... & PAINADL2 & CONCEN2 & TENSE2 & WORRY2 & IRRIT2 & DEPRES2 & REMEM2 & FAMILY2 & SOCIAL2 & FINANC2\\\\\n",
       "\\hline\n",
       "\t 2   & 2   & 1   & 2   & 2   & 1   & 1   & 1   & 1   & 1   & ... & 1   & 2   & 1   & 1   & 1   & 1   & 1   & 2   & 1   & 2  \\\\\n",
       "\t 2   & 2   & 2   & 2   & 2   & 2   & 1   & 1   & 1   & 1   & ... & 2   & 2   & 2   & 2   & 2   & 2   & 2   & 1   & 2   & 2  \\\\\n",
       "\t 2   & 2   & 2   & 1   & 2   & 1   & 1   & 1   & 1   & 1   & ... & 1   & 2   & 1   & 1   & 1   & 1   & 2   & 2   & 2   & 1  \\\\\n",
       "\t 2   & 2   & 2   & 2   & 2   & 2   & 1   & 1   & 1   & 1   & ... & 2   & 2   & 2   & 2   & 2   & 2   & 2   & 2   & 2   & 1  \\\\\n",
       "\t 2   & 2   & 1   & 2   & 2   & 2   & 1   & 1   & 1   & 1   & ... & 1   & 2   & 2   & 1   & 2   & 2   & 2   & 2   & 2   & 1  \\\\\n",
       "\t 1   & 1   & 1   & 1   & 2   & 1   & 1   & 1   & 1   & 2   & ... & 1   & 1   & 1   & 1   & 1   & 1   & 1   & 2   & 1   & 1  \\\\\n",
       "\\end{tabular}\n"
      ],
      "text/markdown": [
       "\n",
       "WORK2 | HOBBY2 | BREATH2 | PAIN2 | REST2 | SLEEP2 | APPET2 | NAUSEA2 | VOMIT2 | CONST2 | ... | PAINADL2 | CONCEN2 | TENSE2 | WORRY2 | IRRIT2 | DEPRES2 | REMEM2 | FAMILY2 | SOCIAL2 | FINANC2 | \n",
       "|---|---|---|---|---|---|\n",
       "| 2   | 2   | 1   | 2   | 2   | 1   | 1   | 1   | 1   | 1   | ... | 1   | 2   | 1   | 1   | 1   | 1   | 1   | 2   | 1   | 2   | \n",
       "| 2   | 2   | 2   | 2   | 2   | 2   | 1   | 1   | 1   | 1   | ... | 2   | 2   | 2   | 2   | 2   | 2   | 2   | 1   | 2   | 2   | \n",
       "| 2   | 2   | 2   | 1   | 2   | 1   | 1   | 1   | 1   | 1   | ... | 1   | 2   | 1   | 1   | 1   | 1   | 2   | 2   | 2   | 1   | \n",
       "| 2   | 2   | 2   | 2   | 2   | 2   | 1   | 1   | 1   | 1   | ... | 2   | 2   | 2   | 2   | 2   | 2   | 2   | 2   | 2   | 1   | \n",
       "| 2   | 2   | 1   | 2   | 2   | 2   | 1   | 1   | 1   | 1   | ... | 1   | 2   | 2   | 1   | 2   | 2   | 2   | 2   | 2   | 1   | \n",
       "| 1   | 1   | 1   | 1   | 2   | 1   | 1   | 1   | 1   | 2   | ... | 1   | 1   | 1   | 1   | 1   | 1   | 1   | 2   | 1   | 1   | \n",
       "\n",
       "\n"
      ],
      "text/plain": [
       "  WORK2 HOBBY2 BREATH2 PAIN2 REST2 SLEEP2 APPET2 NAUSEA2 VOMIT2 CONST2 ...\n",
       "1 2     2      1       2     2     1      1      1       1      1      ...\n",
       "2 2     2      2       2     2     2      1      1       1      1      ...\n",
       "3 2     2      2       1     2     1      1      1       1      1      ...\n",
       "4 2     2      2       2     2     2      1      1       1      1      ...\n",
       "5 2     2      1       2     2     2      1      1       1      1      ...\n",
       "6 1     1      1       1     2     1      1      1       1      2      ...\n",
       "  PAINADL2 CONCEN2 TENSE2 WORRY2 IRRIT2 DEPRES2 REMEM2 FAMILY2 SOCIAL2 FINANC2\n",
       "1 1        2       1      1      1      1       1      2       1       2      \n",
       "2 2        2       2      2      2      2       2      1       2       2      \n",
       "3 1        2       1      1      1      1       2      2       2       1      \n",
       "4 2        2       2      2      2      2       2      2       2       1      \n",
       "5 1        2       2      1      2      2       2      2       2       1      \n",
       "6 1        1       1      1      1      1       1      2       1       1      "
      ]
     },
     "metadata": {},
     "output_type": "display_data"
    },
    {
     "data": {
      "text/html": [
       "<ol class=list-inline>\n",
       "\t<li>295</li>\n",
       "\t<li>25</li>\n",
       "</ol>\n"
      ],
      "text/latex": [
       "\\begin{enumerate*}\n",
       "\\item 295\n",
       "\\item 25\n",
       "\\end{enumerate*}\n"
      ],
      "text/markdown": [
       "1. 295\n",
       "2. 25\n",
       "\n",
       "\n"
      ],
      "text/plain": [
       "[1] 295  25"
      ]
     },
     "metadata": {},
     "output_type": "display_data"
    },
    {
     "data": {
      "text/html": [
       "<ol class=list-inline>\n",
       "\t<li>'WORK2'</li>\n",
       "\t<li>'HOBBY2'</li>\n",
       "\t<li>'BREATH2'</li>\n",
       "\t<li>'PAIN2'</li>\n",
       "\t<li>'REST2'</li>\n",
       "\t<li>'SLEEP2'</li>\n",
       "\t<li>'APPET2'</li>\n",
       "\t<li>'NAUSEA2'</li>\n",
       "\t<li>'VOMIT2'</li>\n",
       "\t<li>'CONST2'</li>\n",
       "\t<li>'DIARR2'</li>\n",
       "\t<li>'TIRED2'</li>\n",
       "\t<li>'PAINADL2'</li>\n",
       "\t<li>'CONCEN2'</li>\n",
       "\t<li>'TENSE2'</li>\n",
       "\t<li>'WORRY2'</li>\n",
       "\t<li>'IRRIT2'</li>\n",
       "\t<li>'DEPRES2'</li>\n",
       "\t<li>'REMEM2'</li>\n",
       "\t<li>'FAMILY2'</li>\n",
       "\t<li>'SOCIAL2'</li>\n",
       "\t<li>'FINANC2'</li>\n",
       "\t<li>'GENDER'</li>\n",
       "\t<li>'AGE'</li>\n",
       "\t<li>'LIVEWITH'</li>\n",
       "</ol>\n"
      ],
      "text/latex": [
       "\\begin{enumerate*}\n",
       "\\item 'WORK2'\n",
       "\\item 'HOBBY2'\n",
       "\\item 'BREATH2'\n",
       "\\item 'PAIN2'\n",
       "\\item 'REST2'\n",
       "\\item 'SLEEP2'\n",
       "\\item 'APPET2'\n",
       "\\item 'NAUSEA2'\n",
       "\\item 'VOMIT2'\n",
       "\\item 'CONST2'\n",
       "\\item 'DIARR2'\n",
       "\\item 'TIRED2'\n",
       "\\item 'PAINADL2'\n",
       "\\item 'CONCEN2'\n",
       "\\item 'TENSE2'\n",
       "\\item 'WORRY2'\n",
       "\\item 'IRRIT2'\n",
       "\\item 'DEPRES2'\n",
       "\\item 'REMEM2'\n",
       "\\item 'FAMILY2'\n",
       "\\item 'SOCIAL2'\n",
       "\\item 'FINANC2'\n",
       "\\item 'GENDER'\n",
       "\\item 'AGE'\n",
       "\\item 'LIVEWITH'\n",
       "\\end{enumerate*}\n"
      ],
      "text/markdown": [
       "1. 'WORK2'\n",
       "2. 'HOBBY2'\n",
       "3. 'BREATH2'\n",
       "4. 'PAIN2'\n",
       "5. 'REST2'\n",
       "6. 'SLEEP2'\n",
       "7. 'APPET2'\n",
       "8. 'NAUSEA2'\n",
       "9. 'VOMIT2'\n",
       "10. 'CONST2'\n",
       "11. 'DIARR2'\n",
       "12. 'TIRED2'\n",
       "13. 'PAINADL2'\n",
       "14. 'CONCEN2'\n",
       "15. 'TENSE2'\n",
       "16. 'WORRY2'\n",
       "17. 'IRRIT2'\n",
       "18. 'DEPRES2'\n",
       "19. 'REMEM2'\n",
       "20. 'FAMILY2'\n",
       "21. 'SOCIAL2'\n",
       "22. 'FINANC2'\n",
       "23. 'GENDER'\n",
       "24. 'AGE'\n",
       "25. 'LIVEWITH'\n",
       "\n",
       "\n"
      ],
      "text/plain": [
       " [1] \"WORK2\"    \"HOBBY2\"   \"BREATH2\"  \"PAIN2\"    \"REST2\"    \"SLEEP2\"  \n",
       " [7] \"APPET2\"   \"NAUSEA2\"  \"VOMIT2\"   \"CONST2\"   \"DIARR2\"   \"TIRED2\"  \n",
       "[13] \"PAINADL2\" \"CONCEN2\"  \"TENSE2\"   \"WORRY2\"   \"IRRIT2\"   \"DEPRES2\" \n",
       "[19] \"REMEM2\"   \"FAMILY2\"  \"SOCIAL2\"  \"FINANC2\"  \"GENDER\"   \"AGE\"     \n",
       "[25] \"LIVEWITH\""
      ]
     },
     "metadata": {},
     "output_type": "display_data"
    }
   ],
   "source": [
    "patient_clus2<- na.omit(patient)\n",
    "dim(patient_clus2)\n",
    "patient_clusbi2<- patient_clus2\n",
    "#WORK2\n",
    "patient_clusbi2$WORK2[patient_clusbi2$WORK2==1 | patient_clusbi2$WORK2==2] <- \"1\"\n",
    "patient_clusbi2$WORK2[patient_clusbi2$WORK2==3 | patient_clusbi2$WORK2==4] <- \"2\"\n",
    "#HOBBY2\n",
    "patient_clusbi2$HOBBY2[patient_clusbi2$HOBBY2==1 | patient_clusbi2$HOBBY2==2] <- \"1\"\n",
    "patient_clusbi2$HOBBY2[patient_clusbi2$HOBBY2==3 | patient_clusbi2$HOBBY2==4] <- \"2\"\n",
    "#BREATH2\n",
    "patient_clusbi2$BREATH2[patient_clusbi2$BREATH2==1 | patient_clusbi2$BREATH2==2] <- \"1\"\n",
    "patient_clusbi2$BREATH2[patient_clusbi2$BREATH2==3 | patient_clusbi2$BREATH2==4] <- \"2\"\n",
    "#PAIN2\n",
    "patient_clusbi2$PAIN2[patient_clusbi2$PAIN2==1 | patient_clusbi2$PAIN2==2] <- \"1\"\n",
    "patient_clusbi2$PAIN2[patient_clusbi2$PAIN2==3 | patient_clusbi2$PAIN2==4] <- \"2\"\n",
    "#REST2\n",
    "patient_clusbi2$REST2[patient_clusbi2$REST2==1 | patient_clusbi2$REST2==2] <- \"1\"\n",
    "patient_clusbi2$REST2[patient_clusbi2$REST2==3 | patient_clusbi2$REST2==4] <- \"2\"\n",
    "#SLEEP2\n",
    "patient_clusbi2$SLEEP2[patient_clusbi2$SLEEP2==1 | patient_clusbi2$SLEEP2==2] <- \"1\"\n",
    "patient_clusbi2$SLEEP2[patient_clusbi2$SLEEP2==3 | patient_clusbi2$SLEEP2==4] <- \"2\"\n",
    "#APPET2\n",
    "patient_clusbi2$APPET2[patient_clusbi2$APPET2==1 | patient_clusbi2$APPET2==2] <- \"1\"\n",
    "patient_clusbi2$APPET2[patient_clusbi2$APPET2==3 | patient_clusbi2$APPET2==4] <- \"2\"\n",
    "#NAUSEA2\n",
    "patient_clusbi2$NAUSEA2[patient_clusbi2$NAUSEA2==1 | patient_clusbi2$NAUSEA2==2] <- \"1\"\n",
    "patient_clusbi2$NAUSEA2[patient_clusbi2$NAUSEA2==3 | patient_clusbi2$NAUSEA2==4] <- \"2\"\n",
    "#VOMIT2\n",
    "patient_clusbi2$VOMIT2[patient_clusbi2$VOMIT2==1 | patient_clusbi2$VOMIT2==2] <- \"1\"\n",
    "patient_clusbi2$VOMIT2[patient_clusbi2$VOMIT2==3 | patient_clusbi2$VOMIT2==4] <- \"2\"\n",
    "#CONST2\n",
    "patient_clusbi2$CONST2[patient_clusbi2$CONST2==1 | patient_clusbi2$CONST2==2] <- \"1\"\n",
    "patient_clusbi2$CONST2[patient_clusbi2$CONST2==3 | patient_clusbi2$CONST2==4] <- \"2\"\n",
    "#DIARR2\n",
    "patient_clusbi2$DIARR2[patient_clusbi2$DIARR2==1 | patient_clusbi2$DIARR2==2] <- \"1\"\n",
    "patient_clusbi2$DIARR2[patient_clusbi2$DIARR2==3 | patient_clusbi2$DIARR2==4] <- \"2\"\n",
    "#TIRED2\n",
    "patient_clusbi2$TIRED2[patient_clusbi2$TIRED2==1 | patient_clusbi2$TIRED2==2] <- \"1\"\n",
    "patient_clusbi2$TIRED2[patient_clusbi2$TIRED2==3 | patient_clusbi2$TIRED2==4] <- \"2\"\n",
    "#PAINADL2\n",
    "patient_clusbi2$PAINADL2[patient_clusbi2$PAINADL2==1 | patient_clusbi2$PAINADL2==2] <- \"1\"\n",
    "patient_clusbi2$PAINADL2[patient_clusbi2$PAINADL2==3 | patient_clusbi2$PAINADL2==4] <- \"2\"\n",
    "#CONCEN2\n",
    "patient_clusbi2$CONCEN2[patient_clusbi2$CONCEN2==1 | patient_clusbi2$CONCEN2==2] <- \"1\"\n",
    "patient_clusbi2$CONCEN2[patient_clusbi2$CONCEN2==3 | patient_clusbi2$CONCEN2==4] <- \"2\"\n",
    "#TENSE2\n",
    "patient_clusbi2$TENSE2[patient_clusbi2$TENSE2==1 | patient_clusbi2$TENSE2==2] <- \"1\"\n",
    "patient_clusbi2$TENSE2[patient_clusbi2$TENSE2==3 | patient_clusbi2$TENSE2==4] <- \"2\"\n",
    "#WORRY2\n",
    "patient_clusbi2$WORRY2[patient_clusbi2$WORRY2==1 | patient_clusbi2$WORRY2==2] <- \"1\"\n",
    "patient_clusbi2$WORRY2[patient_clusbi2$WORRY2==3 | patient_clusbi2$WORRY2==4] <- \"2\"\n",
    "#IRRIT2\n",
    "patient_clusbi2$IRRIT2[patient_clusbi2$IRRIT2==1 | patient_clusbi2$IRRIT2==2] <- \"1\"\n",
    "patient_clusbi2$IRRIT2[patient_clusbi2$IRRIT2==3 | patient_clusbi2$IRRIT2==4] <- \"2\"\n",
    "#DEPRES2\n",
    "patient_clusbi2$DEPRES2[patient_clusbi2$DEPRES2==1 | patient_clusbi2$DEPRES2==2] <- \"1\"\n",
    "patient_clusbi2$DEPRES2[patient_clusbi2$DEPRES2==3 | patient_clusbi2$DEPRES2==4] <- \"2\"\n",
    "#REMEM2\n",
    "patient_clusbi2$REMEM2[patient_clusbi2$REMEM2==1 | patient_clusbi2$REMEM2==2] <- \"1\"\n",
    "patient_clusbi2$REMEM2[patient_clusbi2$REMEM2==3 | patient_clusbi2$REMEM2==4] <- \"2\"\n",
    "#FAMILY2\n",
    "patient_clusbi2$FAMILY2[patient_clusbi2$FAMILY2==1 | patient_clusbi2$FAMILY2==2] <- \"1\"\n",
    "patient_clusbi2$FAMILY2[patient_clusbi2$FAMILY2==3 | patient_clusbi2$FAMILY2==4] <- \"2\"\n",
    "#SOCIAL2\n",
    "patient_clusbi2$SOCIAL2[patient_clusbi2$SOCIAL2==1 | patient_clusbi2$SOCIAL2==2] <- \"1\"\n",
    "patient_clusbi2$SOCIAL2[patient_clusbi2$SOCIAL2==3 | patient_clusbi2$SOCIAL2==4] <- \"2\"\n",
    "#FINANC2\n",
    "patient_clusbi2$FINANC2[patient_clusbi2$FINANC2==1 | patient_clusbi2$FINANC2==2] <- \"1\"\n",
    "patient_clusbi2$FINANC2[patient_clusbi2$FINANC2==3 | patient_clusbi2$FINANC2==4] <- \"2\"\n",
    "head(patient_clusbi)\n",
    "#WORK2\n",
    "patient_clusbi2$WORK2<- as.numeric(patient_clusbi2$WORK2)\n",
    "#HOBBY2\n",
    "patient_clusbi2$HOBBY2<- as.numeric(patient_clusbi2$HOBBY2)\n",
    "#BREATH2\n",
    "patient_clusbi2$BREATH2<- as.numeric(patient_clusbi2$BREATH2)\n",
    "#PAIN2\n",
    "patient_clusbi2$PAIN2<- as.numeric(patient_clusbi2$PAIN2)\n",
    "#REST2\n",
    "patient_clusbi2$REST2<- as.numeric(patient_clusbi2$REST2)\n",
    "#SLEEP2\n",
    "patient_clusbi2$SLEEP2<- as.numeric(patient_clusbi2$SLEEP2)\n",
    "#APPET2\n",
    "patient_clusbi2$APPET2<- as.numeric(patient_clusbi2$APPET2)\n",
    "#NAUSEA2\n",
    "patient_clusbi2$NAUSEA2<- as.numeric(patient_clusbi2$NAUSEA2)\n",
    "#VOMIT2\n",
    "patient_clusbi2$VOMIT2<- as.numeric(patient_clusbi2$VOMIT2)\n",
    "#CONST2\n",
    "patient_clusbi2$CONST2<- as.numeric(patient_clusbi2$CONST2)\n",
    "#DIARR2\n",
    "patient_clusbi2$DIARR2<- as.numeric(patient_clusbi2$DIARR2)\n",
    "#TIRED2\n",
    "patient_clusbi2$TIRED2<- as.numeric(patient_clusbi2$TIRED2)\n",
    "#PAINADL2\n",
    "patient_clusbi2$PAINADL2<- as.numeric(patient_clusbi2$PAINADL2)\n",
    "#CONCEN2\n",
    "patient_clusbi2$CONCEN2<- as.numeric(patient_clusbi2$CONCEN2)\n",
    "#TENSE2\n",
    "patient_clusbi2$TENSE2<- as.numeric(patient_clusbi2$TENSE2)\n",
    "#WORRY2\n",
    "patient_clusbi2$WORRY2<- as.numeric(patient_clusbi2$WORRY2)\n",
    "#IRRIT2\n",
    "patient_clusbi2$IRRIT2<- as.numeric(patient_clusbi2$IRRIT2)\n",
    "#DEPRES2\n",
    "patient_clusbi2$DEPRES2<- as.numeric(patient_clusbi2$DEPRES2)\n",
    "#REMEM2\n",
    "patient_clusbi2$REMEM2<- as.numeric(patient_clusbi2$REMEM2)\n",
    "#FAMILY2\n",
    "patient_clusbi2$FAMILY2<- as.numeric(patient_clusbi2$FAMILY2)\n",
    "#SOCIAL2\n",
    "patient_clusbi2$SOCIAL2<- as.numeric(patient_clusbi2$SOCIAL2)\n",
    "#FINANC2\n",
    "patient_clusbi2$FINANC2<- as.numeric(patient_clusbi2$FINANC2)\n",
    "dim(patient_clusbi2)\n",
    "names(patient_clusbi2)"
   ]
  },
  {
   "cell_type": "code",
   "execution_count": 334,
   "metadata": {},
   "outputs": [
    {
     "data": {
      "text/plain": [
       "cbind(WORK2, HOBBY2, BREATH2, PAIN2, REST2, SLEEP2, APPET2, NAUSEA2, \n",
       "    VOMIT2, CONST2, DIARR2, TIRED2, PAINADL2, CONCEN2, TENSE2, \n",
       "    WORRY2, IRRIT2, DEPRES2, REMEM2, FAMILY2, SOCIAL2, FINANC2) ~ \n",
       "    GENDER"
      ]
     },
     "metadata": {},
     "output_type": "display_data"
    }
   ],
   "source": [
    "pbind_gender=cbind(WORK2,HOBBY2,BREATH2,PAIN2,REST2,SLEEP2,APPET2,NAUSEA2,VOMIT2,CONST2,DIARR2,TIRED2,PAINADL2,CONCEN2,TENSE2,WORRY2,IRRIT2,DEPRES2,REMEM2,FAMILY2,SOCIAL2,FINANC2)~GENDER\n",
    "pbind_gender"
   ]
  },
  {
   "cell_type": "code",
   "execution_count": 335,
   "metadata": {},
   "outputs": [
    {
     "data": {
      "text/html": [
       "5798.43022801817"
      ],
      "text/latex": [
       "5798.43022801817"
      ],
      "text/markdown": [
       "5798.43022801817"
      ],
      "text/plain": [
       "[1] 5798.43"
      ]
     },
     "metadata": {},
     "output_type": "display_data"
    }
   ],
   "source": [
    "kg2=poLCA(pbind_gender, data=patient_clusbi2, nclass=2, maxiter=200, nrep =50,verbose=F)\n",
    "kg2$bic#5798.43022801817"
   ]
  },
  {
   "cell_type": "code",
   "execution_count": 336,
   "metadata": {
    "collapsed": true
   },
   "outputs": [],
   "source": [
    "kg3=poLCA(pbind_gender, data=patient_clusbi2, nclass=3, maxiter=200, nrep =50,verbose=F)"
   ]
  },
  {
   "cell_type": "code",
   "execution_count": 337,
   "metadata": {},
   "outputs": [
    {
     "data": {
      "text/html": [
       "5631.38070151742"
      ],
      "text/latex": [
       "5631.38070151742"
      ],
      "text/markdown": [
       "5631.38070151742"
      ],
      "text/plain": [
       "[1] 5631.381"
      ]
     },
     "metadata": {},
     "output_type": "display_data"
    }
   ],
   "source": [
    "kg3$bic #5631.38070151742"
   ]
  },
  {
   "cell_type": "code",
   "execution_count": 338,
   "metadata": {
    "collapsed": true
   },
   "outputs": [],
   "source": [
    "kg4=poLCA(pbind_gender, data=patient_clusbi2, nclass=4, maxiter=200, nrep =50,verbose=F)"
   ]
  },
  {
   "cell_type": "code",
   "execution_count": 339,
   "metadata": {},
   "outputs": [
    {
     "data": {
      "text/html": [
       "5621.28956775403"
      ],
      "text/latex": [
       "5621.28956775403"
      ],
      "text/markdown": [
       "5621.28956775403"
      ],
      "text/plain": [
       "[1] 5621.29"
      ]
     },
     "metadata": {},
     "output_type": "display_data"
    }
   ],
   "source": [
    "kg4$bic#5621.28956775403---------------->best"
   ]
  },
  {
   "cell_type": "code",
   "execution_count": 341,
   "metadata": {},
   "outputs": [
    {
     "name": "stderr",
     "output_type": "stream",
     "text": [
      "Warning message in sqrt(diag(VCE.beta)):\n",
      "\"Se han producido NaNs\"Warning message in sqrt(diag(VCE.mix)):\n",
      "\"Se han producido NaNs\""
     ]
    },
    {
     "data": {
      "text/html": [
       "5644.84451501258"
      ],
      "text/latex": [
       "5644.84451501258"
      ],
      "text/markdown": [
       "5644.84451501258"
      ],
      "text/plain": [
       "[1] 5644.845"
      ]
     },
     "metadata": {},
     "output_type": "display_data"
    }
   ],
   "source": [
    "kg5=poLCA(pbind_gender, data=patient_clusbi2, nclass=5, maxiter=200, nrep =50,verbose=F)\n",
    "kg5$bic"
   ]
  },
  {
   "cell_type": "code",
   "execution_count": 342,
   "metadata": {},
   "outputs": [
    {
     "name": "stderr",
     "output_type": "stream",
     "text": [
      "Warning message in sqrt(diag(VCE.beta)):\n",
      "\"Se han producido NaNs\"Warning message in sqrt(diag(VCE.mix)):\n",
      "\"Se han producido NaNs\""
     ]
    },
    {
     "data": {
      "text/html": [
       "5736.08097916824"
      ],
      "text/latex": [
       "5736.08097916824"
      ],
      "text/markdown": [
       "5736.08097916824"
      ],
      "text/plain": [
       "[1] 5736.081"
      ]
     },
     "metadata": {},
     "output_type": "display_data"
    }
   ],
   "source": [
    "kg6=poLCA(pbind_gender, data=patient_clusbi2, nclass=6, maxiter=200, nrep =50,verbose=F)\n",
    "kg6$bic"
   ]
  },
  {
   "cell_type": "code",
   "execution_count": 343,
   "metadata": {},
   "outputs": [
    {
     "data": {
      "text/plain": [
       "Conditional item response (column) probabilities,\n",
       " by outcome variable, for each class (row) \n",
       " \n",
       "$WORK2\n",
       "           Pr(1)  Pr(2)\n",
       "class 1:  0.1954 0.8046\n",
       "class 2:  0.0000 1.0000\n",
       "class 3:  0.7475 0.2525\n",
       "class 4:  0.8894 0.1106\n",
       "\n",
       "$HOBBY2\n",
       "           Pr(1)  Pr(2)\n",
       "class 1:  0.2093 0.7907\n",
       "class 2:  0.0736 0.9264\n",
       "class 3:  0.7683 0.2317\n",
       "class 4:  0.9255 0.0745\n",
       "\n",
       "$BREATH2\n",
       "           Pr(1)  Pr(2)\n",
       "class 1:  0.7932 0.2068\n",
       "class 2:  0.4888 0.5112\n",
       "class 3:  0.8146 0.1854\n",
       "class 4:  0.9574 0.0426\n",
       "\n",
       "$PAIN2\n",
       "           Pr(1)  Pr(2)\n",
       "class 1:  0.6673 0.3327\n",
       "class 2:  0.3256 0.6744\n",
       "class 3:  0.7633 0.2367\n",
       "class 4:  0.9656 0.0344\n",
       "\n",
       "$REST2\n",
       "           Pr(1)  Pr(2)\n",
       "class 1:  0.2083 0.7917\n",
       "class 2:  0.0000 1.0000\n",
       "class 3:  0.7880 0.2120\n",
       "class 4:  0.9310 0.0690\n",
       "\n",
       "$SLEEP2\n",
       "           Pr(1)  Pr(2)\n",
       "class 1:  0.8438 0.1562\n",
       "class 2:  0.1743 0.8257\n",
       "class 3:  0.6574 0.3426\n",
       "class 4:  0.8843 0.1157\n",
       "\n",
       "$APPET2\n",
       "           Pr(1)  Pr(2)\n",
       "class 1:  0.8230 0.1770\n",
       "class 2:  0.5980 0.4020\n",
       "class 3:  0.8007 0.1993\n",
       "class 4:  0.9775 0.0225\n",
       "\n",
       "$NAUSEA2\n",
       "           Pr(1)  Pr(2)\n",
       "class 1:  0.9067 0.0933\n",
       "class 2:  0.6032 0.3968\n",
       "class 3:  0.9545 0.0455\n",
       "class 4:  0.9761 0.0239\n",
       "\n",
       "$VOMIT2\n",
       "           Pr(1)  Pr(2)\n",
       "class 1:  0.9652 0.0348\n",
       "class 2:  0.8094 0.1906\n",
       "class 3:  1.0000 0.0000\n",
       "class 4:  1.0000 0.0000\n",
       "\n",
       "$CONST2\n",
       "           Pr(1)  Pr(2)\n",
       "class 1:  0.8285 0.1715\n",
       "class 2:  0.5948 0.4052\n",
       "class 3:  0.8549 0.1451\n",
       "class 4:  0.9301 0.0699\n",
       "\n",
       "$DIARR2\n",
       "           Pr(1)  Pr(2)\n",
       "class 1:  0.9529 0.0471\n",
       "class 2:  0.8644 0.1356\n",
       "class 3:  0.9217 0.0783\n",
       "class 4:  0.9763 0.0237\n",
       "\n",
       "$TIRED2\n",
       "           Pr(1)  Pr(2)\n",
       "class 1:  0.3189 0.6811\n",
       "class 2:  0.0197 0.9803\n",
       "class 3:  0.5227 0.4773\n",
       "class 4:  0.8385 0.1615\n",
       "\n",
       "$PAINADL2\n",
       "           Pr(1)  Pr(2)\n",
       "class 1:  0.7236 0.2764\n",
       "class 2:  0.3318 0.6682\n",
       "class 3:  0.9169 0.0831\n",
       "class 4:  1.0000 0.0000\n",
       "\n",
       "$CONCEN2\n",
       "           Pr(1)  Pr(2)\n",
       "class 1:  0.8305 0.1695\n",
       "class 2:  0.4186 0.5814\n",
       "class 3:  0.7225 0.2775\n",
       "class 4:  1.0000 0.0000\n",
       "\n",
       "$TENSE2\n",
       "           Pr(1)  Pr(2)\n",
       "class 1:  0.9527 0.0473\n",
       "class 2:  0.2325 0.7675\n",
       "class 3:  0.3830 0.6170\n",
       "class 4:  0.9757 0.0243\n",
       "\n",
       "$WORRY2\n",
       "           Pr(1)  Pr(2)\n",
       "class 1:  0.8453 0.1547\n",
       "class 2:  0.2130 0.7870\n",
       "class 3:  0.0000 1.0000\n",
       "class 4:  0.9150 0.0850\n",
       "\n",
       "$IRRIT2\n",
       "           Pr(1)  Pr(2)\n",
       "class 1:  0.9070 0.0930\n",
       "class 2:  0.4135 0.5865\n",
       "class 3:  0.5773 0.4227\n",
       "class 4:  0.9884 0.0116\n",
       "\n",
       "$DEPRES2\n",
       "           Pr(1)  Pr(2)\n",
       "class 1:  0.9719 0.0281\n",
       "class 2:  0.4035 0.5965\n",
       "class 3:  0.5742 0.4258\n",
       "class 4:  1.0000 0.0000\n",
       "\n",
       "$REMEM2\n",
       "           Pr(1)  Pr(2)\n",
       "class 1:  0.8811 0.1189\n",
       "class 2:  0.5980 0.4020\n",
       "class 3:  0.8179 0.1821\n",
       "class 4:  0.9668 0.0332\n",
       "\n",
       "$FAMILY2\n",
       "           Pr(1)  Pr(2)\n",
       "class 1:  0.6654 0.3346\n",
       "class 2:  0.1335 0.8665\n",
       "class 3:  1.0000 0.0000\n",
       "class 4:  0.9695 0.0305\n",
       "\n",
       "$SOCIAL2\n",
       "           Pr(1)  Pr(2)\n",
       "class 1:  0.2810 0.7190\n",
       "class 2:  0.0618 0.9382\n",
       "class 3:  0.8256 0.1744\n",
       "class 4:  0.9544 0.0456\n",
       "\n",
       "$FINANC2\n",
       "           Pr(1)  Pr(2)\n",
       "class 1:  0.8702 0.1298\n",
       "class 2:  0.6244 0.3756\n",
       "class 3:  0.8566 0.1434\n",
       "class 4:  0.9340 0.0660\n",
       "\n",
       "Estimated class population shares \n",
       " 0.2815 0.2332 0.0846 0.4006 \n",
       " \n",
       "Predicted class memberships (by modal posterior prob.) \n",
       " 0.278 0.2339 0.0847 0.4034 \n",
       " \n",
       "========================================================= \n",
       "Fit for 4 latent classes: \n",
       "========================================================= \n",
       "2 / 1 \n",
       "            Coefficient  Std. error  t value  Pr(>|t|)\n",
       "(Intercept)    -0.12728      0.8037   -0.158     0.874\n",
       "GENDER         -0.03701      0.4709   -0.079     0.937\n",
       "========================================================= \n",
       "3 / 1 \n",
       "            Coefficient  Std. error  t value  Pr(>|t|)\n",
       "(Intercept)    -3.70941     2.38037   -1.558     0.121\n",
       "GENDER          1.40410     1.26945    1.106     0.270\n",
       "========================================================= \n",
       "4 / 1 \n",
       "            Coefficient  Std. error  t value  Pr(>|t|)\n",
       "(Intercept)     0.57096     0.63370    0.901     0.369\n",
       "GENDER         -0.13298     0.37503   -0.355     0.723\n",
       "========================================================= \n",
       "number of observations: 295 \n",
       "number of estimated parameters: 94 \n",
       "residual degrees of freedom: 201 \n",
       "maximum log-likelihood: -2543.357 \n",
       " \n",
       "AIC(4): 5274.714\n",
       "BIC(4): 5621.29\n",
       "X^2(4): 4060604 (Chi-square goodness of fit) \n",
       " \n",
       "ALERT: estimation algorithm automatically restarted with new initial values \n",
       " "
      ]
     },
     "metadata": {},
     "output_type": "display_data"
    }
   ],
   "source": [
    "kg4"
   ]
  },
  {
   "cell_type": "code",
   "execution_count": 344,
   "metadata": {},
   "outputs": [
    {
     "data": {
      "text/plain": [
       "cbind(WORK2, HOBBY2, BREATH2, PAIN2, REST2, SLEEP2, APPET2, NAUSEA2, \n",
       "    VOMIT2, CONST2, DIARR2, TIRED2, PAINADL2, CONCEN2, TENSE2, \n",
       "    WORRY2, IRRIT2, DEPRES2, REMEM2, FAMILY2, SOCIAL2, FINANC2) ~ \n",
       "    AGE"
      ]
     },
     "metadata": {},
     "output_type": "display_data"
    }
   ],
   "source": [
    "pbind_age=cbind(WORK2,HOBBY2,BREATH2,PAIN2,REST2,SLEEP2,APPET2,NAUSEA2,VOMIT2,CONST2,DIARR2,TIRED2,PAINADL2,CONCEN2,TENSE2,WORRY2,IRRIT2,DEPRES2,REMEM2,FAMILY2,SOCIAL2,FINANC2)~AGE\n",
    "pbind_age"
   ]
  },
  {
   "cell_type": "code",
   "execution_count": 345,
   "metadata": {},
   "outputs": [
    {
     "data": {
      "text/html": [
       "5798.05644499327"
      ],
      "text/latex": [
       "5798.05644499327"
      ],
      "text/markdown": [
       "5798.05644499327"
      ],
      "text/plain": [
       "[1] 5798.056"
      ]
     },
     "metadata": {},
     "output_type": "display_data"
    }
   ],
   "source": [
    "ka2=poLCA(pbind_age, data=patient_clusbi2, nclass=2, maxiter=200, nrep =50,verbose=F)\n",
    "ka2$bic"
   ]
  },
  {
   "cell_type": "code",
   "execution_count": 346,
   "metadata": {},
   "outputs": [
    {
     "data": {
      "text/html": [
       "5627.86565539184"
      ],
      "text/latex": [
       "5627.86565539184"
      ],
      "text/markdown": [
       "5627.86565539184"
      ],
      "text/plain": [
       "[1] 5627.866"
      ]
     },
     "metadata": {},
     "output_type": "display_data"
    }
   ],
   "source": [
    "ka3=poLCA(pbind_age, data=patient_clusbi2, nclass=3, maxiter=200, nrep =50,verbose=F)\n",
    "ka3$bic"
   ]
  },
  {
   "cell_type": "code",
   "execution_count": 347,
   "metadata": {},
   "outputs": [
    {
     "data": {
      "text/html": [
       "5622.74341493897"
      ],
      "text/latex": [
       "5622.74341493897"
      ],
      "text/markdown": [
       "5622.74341493897"
      ],
      "text/plain": [
       "[1] 5622.743"
      ]
     },
     "metadata": {},
     "output_type": "display_data"
    }
   ],
   "source": [
    "ka4=poLCA(pbind_age, data=patient_clusbi2, nclass=4, maxiter=200, nrep =50,verbose=F)\n",
    "ka4$bic #5622.74341493913----->best"
   ]
  },
  {
   "cell_type": "code",
   "execution_count": 350,
   "metadata": {},
   "outputs": [
    {
     "data": {
      "text/plain": [
       "Conditional item response (column) probabilities,\n",
       " by outcome variable, for each class (row) \n",
       " \n",
       "$WORK2\n",
       "           Pr(1)  Pr(2)\n",
       "class 1:  0.7873 0.2127\n",
       "class 2:  0.8854 0.1146\n",
       "class 3:  0.0000 1.0000\n",
       "class 4:  0.1939 0.8061\n",
       "\n",
       "$HOBBY2\n",
       "           Pr(1)  Pr(2)\n",
       "class 1:  0.8053 0.1947\n",
       "class 2:  0.9219 0.0781\n",
       "class 3:  0.0717 0.9283\n",
       "class 4:  0.2103 0.7897\n",
       "\n",
       "$BREATH2\n",
       "           Pr(1)  Pr(2)\n",
       "class 1:  0.8207 0.1793\n",
       "class 2:  0.9594 0.0406\n",
       "class 3:  0.4911 0.5089\n",
       "class 4:  0.7902 0.2098\n",
       "\n",
       "$PAIN2\n",
       "           Pr(1)  Pr(2)\n",
       "class 1:  0.7893 0.2107\n",
       "class 2:  0.9646 0.0354\n",
       "class 3:  0.3274 0.6726\n",
       "class 4:  0.6642 0.3358\n",
       "\n",
       "$REST2\n",
       "           Pr(1)  Pr(2)\n",
       "class 1:  0.8231 0.1769\n",
       "class 2:  0.9279 0.0721\n",
       "class 3:  0.0000 1.0000\n",
       "class 4:  0.2072 0.7928\n",
       "\n",
       "$SLEEP2\n",
       "           Pr(1)  Pr(2)\n",
       "class 1:  0.6733 0.3267\n",
       "class 2:  0.8864 0.1136\n",
       "class 3:  0.1688 0.8312\n",
       "class 4:  0.8447 0.1553\n",
       "\n",
       "$APPET2\n",
       "           Pr(1)  Pr(2)\n",
       "class 1:  0.8188 0.1812\n",
       "class 2:  0.9768 0.0232\n",
       "class 3:  0.6034 0.3966\n",
       "class 4:  0.8180 0.1820\n",
       "\n",
       "$NAUSEA2\n",
       "           Pr(1)  Pr(2)\n",
       "class 1:  0.9574 0.0426\n",
       "class 2:  0.9764 0.0236\n",
       "class 3:  0.6043 0.3957\n",
       "class 4:  0.9049 0.0951\n",
       "\n",
       "$VOMIT2\n",
       "           Pr(1)  Pr(2)\n",
       "class 1:  1.0000 0.0000\n",
       "class 2:  1.0000 0.0000\n",
       "class 3:  0.8108 0.1892\n",
       "class 4:  0.9640 0.0360\n",
       "\n",
       "$CONST2\n",
       "           Pr(1)  Pr(2)\n",
       "class 1:  0.8782 0.1218\n",
       "class 2:  0.9285 0.0715\n",
       "class 3:  0.5900 0.4100\n",
       "class 4:  0.8289 0.1711\n",
       "\n",
       "$DIARR2\n",
       "           Pr(1)  Pr(2)\n",
       "class 1:  0.9223 0.0777\n",
       "class 2:  0.9767 0.0233\n",
       "class 3:  0.8670 0.1330\n",
       "class 4:  0.9512 0.0488\n",
       "\n",
       "$TIRED2\n",
       "           Pr(1)  Pr(2)\n",
       "class 1:  0.5622 0.4378\n",
       "class 2:  0.8391 0.1609\n",
       "class 3:  0.0178 0.9822\n",
       "class 4:  0.3161 0.6839\n",
       "\n",
       "$PAINADL2\n",
       "           Pr(1)  Pr(2)\n",
       "class 1:  0.9284 0.0716\n",
       "class 2:  1.0000 0.0000\n",
       "class 3:  0.3351 0.6649\n",
       "class 4:  0.7196 0.2804\n",
       "\n",
       "$CONCEN2\n",
       "           Pr(1)  Pr(2)\n",
       "class 1:  0.7428 0.2572\n",
       "class 2:  1.0000 0.0000\n",
       "class 3:  0.4199 0.5801\n",
       "class 4:  0.8294 0.1706\n",
       "\n",
       "$TENSE2\n",
       "           Pr(1)  Pr(2)\n",
       "class 1:  0.3878 0.6122\n",
       "class 2:  0.9890 0.0110\n",
       "class 3:  0.2249 0.7751\n",
       "class 4:  0.9516 0.0484\n",
       "\n",
       "$WORRY2\n",
       "           Pr(1)  Pr(2)\n",
       "class 1:  0.0000 1.0000\n",
       "class 2:  0.9358 0.0642\n",
       "class 3:  0.2093 0.7907\n",
       "class 4:  0.8400 0.1600\n",
       "\n",
       "$IRRIT2\n",
       "           Pr(1)  Pr(2)\n",
       "class 1:  0.6052 0.3948\n",
       "class 2:  0.9893 0.0107\n",
       "class 3:  0.4146 0.5854\n",
       "class 4:  0.9048 0.0952\n",
       "\n",
       "$DEPRES2\n",
       "           Pr(1)  Pr(2)\n",
       "class 1:  0.6256 0.3744\n",
       "class 2:  1.0000 0.0000\n",
       "class 3:  0.4004 0.5996\n",
       "class 4:  0.9670 0.0330\n",
       "\n",
       "$REMEM2\n",
       "           Pr(1)  Pr(2)\n",
       "class 1:  0.8437 0.1563\n",
       "class 2:  0.9662 0.0338\n",
       "class 3:  0.5961 0.4039\n",
       "class 4:  0.8784 0.1216\n",
       "\n",
       "$FAMILY2\n",
       "           Pr(1)  Pr(2)\n",
       "class 1:  0.9650 0.0350\n",
       "class 2:  0.9776 0.0224\n",
       "class 3:  0.1376 0.8624\n",
       "class 4:  0.6619 0.3381\n",
       "\n",
       "$SOCIAL2\n",
       "           Pr(1)  Pr(2)\n",
       "class 1:  0.8377 0.1623\n",
       "class 2:  0.9549 0.0451\n",
       "class 3:  0.0663 0.9337\n",
       "class 4:  0.2782 0.7218\n",
       "\n",
       "$FINANC2\n",
       "           Pr(1)  Pr(2)\n",
       "class 1:  0.8524 0.1476\n",
       "class 2:  0.9359 0.0641\n",
       "class 3:  0.6233 0.3767\n",
       "class 4:  0.8714 0.1286\n",
       "\n",
       "Estimated class population shares \n",
       " 0.0912 0.3929 0.2327 0.2832 \n",
       " \n",
       "Predicted class memberships (by modal posterior prob.) \n",
       " 0.0881 0.3966 0.2339 0.2814 \n",
       " \n",
       "========================================================= \n",
       "Fit for 4 latent classes: \n",
       "========================================================= \n",
       "2 / 1 \n",
       "            Coefficient  Std. error  t value  Pr(>|t|)\n",
       "(Intercept)     1.07584     1.81295    0.593     0.554\n",
       "AGE             0.00635     0.02964    0.214     0.831\n",
       "========================================================= \n",
       "3 / 1 \n",
       "            Coefficient  Std. error  t value  Pr(>|t|)\n",
       "(Intercept)     1.40458     1.94576    0.722     0.471\n",
       "AGE            -0.00786     0.03200   -0.246     0.806\n",
       "========================================================= \n",
       "4 / 1 \n",
       "            Coefficient  Std. error  t value  Pr(>|t|)\n",
       "(Intercept)     0.13026     1.85890    0.070     0.944\n",
       "AGE             0.01633     0.03019    0.541     0.589\n",
       "========================================================= \n",
       "number of observations: 295 \n",
       "number of estimated parameters: 94 \n",
       "residual degrees of freedom: 201 \n",
       "maximum log-likelihood: -2544.084 \n",
       " \n",
       "AIC(4): 5276.168\n",
       "BIC(4): 5622.743\n",
       "X^2(4): 3976401 (Chi-square goodness of fit) \n",
       " \n",
       "ALERT: estimation algorithm automatically restarted with new initial values \n",
       " "
      ]
     },
     "metadata": {},
     "output_type": "display_data"
    }
   ],
   "source": [
    "ka4"
   ]
  },
  {
   "cell_type": "code",
   "execution_count": 348,
   "metadata": {},
   "outputs": [
    {
     "data": {
      "text/html": [
       "5652.73882552709"
      ],
      "text/latex": [
       "5652.73882552709"
      ],
      "text/markdown": [
       "5652.73882552709"
      ],
      "text/plain": [
       "[1] 5652.739"
      ]
     },
     "metadata": {},
     "output_type": "display_data"
    }
   ],
   "source": [
    "ka5=poLCA(pbind_age, data=patient_clusbi2, nclass=5, maxiter=200, nrep =50,verbose=F)\n",
    "ka5$bic"
   ]
  },
  {
   "cell_type": "code",
   "execution_count": 349,
   "metadata": {},
   "outputs": [
    {
     "ename": "ERROR",
     "evalue": "Error in poLCA.ylik.C(vp, y): NA/NaN/Inf en llamada a una función externa (arg 1)\n",
     "output_type": "error",
     "traceback": [
      "Error in poLCA.ylik.C(vp, y): NA/NaN/Inf en llamada a una función externa (arg 1)\nTraceback:\n",
      "1. poLCA(pbind_age, data = patient_clusbi2, nclass = 6, maxiter = 200, \n .     nrep = 50, verbose = F)",
      "2. rowSums(prior * poLCA.ylik.C(vp, y))",
      "3. is.data.frame(x)",
      "4. poLCA.ylik.C(vp, y)"
     ]
    }
   ],
   "source": [
    "ka6=poLCA(pbind_age, data=patient_clusbi2, nclass=6, maxiter=200, nrep =50,verbose=F)\n",
    "ka6$bic"
   ]
  },
  {
   "cell_type": "code",
   "execution_count": 353,
   "metadata": {},
   "outputs": [
    {
     "data": {
      "text/plain": [
       "cbind(WORK2, HOBBY2, BREATH2, PAIN2, REST2, SLEEP2, APPET2, NAUSEA2, \n",
       "    VOMIT2, CONST2, DIARR2, TIRED2, PAINADL2, CONCEN2, TENSE2, \n",
       "    WORRY2, IRRIT2, DEPRES2, REMEM2, FAMILY2, SOCIAL2, FINANC2) ~ \n",
       "    LIVEWITH"
      ]
     },
     "metadata": {},
     "output_type": "display_data"
    }
   ],
   "source": [
    "pbind_live=cbind(WORK2,HOBBY2,BREATH2,PAIN2,REST2,SLEEP2,APPET2,NAUSEA2,VOMIT2,CONST2,DIARR2,TIRED2,PAINADL2,CONCEN2,TENSE2,WORRY2,IRRIT2,DEPRES2,REMEM2,FAMILY2,SOCIAL2,FINANC2)~LIVEWITH\n",
    "pbind_live"
   ]
  },
  {
   "cell_type": "code",
   "execution_count": 354,
   "metadata": {},
   "outputs": [
    {
     "data": {
      "text/html": [
       "5798.41346772518"
      ],
      "text/latex": [
       "5798.41346772518"
      ],
      "text/markdown": [
       "5798.41346772518"
      ],
      "text/plain": [
       "[1] 5798.413"
      ]
     },
     "metadata": {},
     "output_type": "display_data"
    }
   ],
   "source": [
    "kl2=poLCA(pbind_live, data=patient_clusbi2, nclass=2, maxiter=200, nrep =50,verbose=F)\n",
    "kl2$bic"
   ]
  },
  {
   "cell_type": "code",
   "execution_count": 355,
   "metadata": {},
   "outputs": [
    {
     "data": {
      "text/html": [
       "5632.3826571516"
      ],
      "text/latex": [
       "5632.3826571516"
      ],
      "text/markdown": [
       "5632.3826571516"
      ],
      "text/plain": [
       "[1] 5632.383"
      ]
     },
     "metadata": {},
     "output_type": "display_data"
    }
   ],
   "source": [
    "kl3=poLCA(pbind_live, data=patient_clusbi2, nclass=3, maxiter=200, nrep =50,verbose=F)\n",
    "kl3$bic"
   ]
  },
  {
   "cell_type": "code",
   "execution_count": 356,
   "metadata": {},
   "outputs": [
    {
     "data": {
      "text/html": [
       "5624.7586092205"
      ],
      "text/latex": [
       "5624.7586092205"
      ],
      "text/markdown": [
       "5624.7586092205"
      ],
      "text/plain": [
       "[1] 5624.759"
      ]
     },
     "metadata": {},
     "output_type": "display_data"
    }
   ],
   "source": [
    "kl4=poLCA(pbind_live, data=patient_clusbi2, nclass=4, maxiter=200, nrep =50,verbose=F)\n",
    "kl4$bic#5624.7586092205----best"
   ]
  },
  {
   "cell_type": "code",
   "execution_count": 358,
   "metadata": {},
   "outputs": [
    {
     "data": {
      "text/plain": [
       "Conditional item response (column) probabilities,\n",
       " by outcome variable, for each class (row) \n",
       " \n",
       "$WORK2\n",
       "           Pr(1)  Pr(2)\n",
       "class 1:  0.8851 0.1149\n",
       "class 2:  0.7849 0.2151\n",
       "class 3:  0.0000 1.0000\n",
       "class 4:  0.1952 0.8048\n",
       "\n",
       "$HOBBY2\n",
       "           Pr(1)  Pr(2)\n",
       "class 1:  0.9221 0.0779\n",
       "class 2:  0.7967 0.2033\n",
       "class 3:  0.0704 0.9296\n",
       "class 4:  0.2136 0.7864\n",
       "\n",
       "$BREATH2\n",
       "           Pr(1)  Pr(2)\n",
       "class 1:  0.9589 0.0411\n",
       "class 2:  0.8140 0.1860\n",
       "class 3:  0.4884 0.5116\n",
       "class 4:  0.7954 0.2046\n",
       "\n",
       "$PAIN2\n",
       "           Pr(1)  Pr(2)\n",
       "class 1:  0.9649 0.0351\n",
       "class 2:  0.7837 0.2163\n",
       "class 3:  0.3278 0.6722\n",
       "class 4:  0.6654 0.3346\n",
       "\n",
       "$REST2\n",
       "           Pr(1)  Pr(2)\n",
       "class 1:  0.9291 0.0709\n",
       "class 2:  0.8205 0.1795\n",
       "class 3:  0.0000 1.0000\n",
       "class 4:  0.2064 0.7936\n",
       "\n",
       "$SLEEP2\n",
       "           Pr(1)  Pr(2)\n",
       "class 1:  0.8856 0.1144\n",
       "class 2:  0.6714 0.3286\n",
       "class 3:  0.1744 0.8256\n",
       "class 4:  0.8424 0.1576\n",
       "\n",
       "$APPET2\n",
       "           Pr(1)  Pr(2)\n",
       "class 1:  0.9763 0.0237\n",
       "class 2:  0.8148 0.1852\n",
       "class 3:  0.6009 0.3991\n",
       "class 4:  0.8219 0.1781\n",
       "\n",
       "$NAUSEA2\n",
       "           Pr(1)  Pr(2)\n",
       "class 1:  0.9760 0.0240\n",
       "class 2:  0.9569 0.0431\n",
       "class 3:  0.6054 0.3946\n",
       "class 4:  0.9053 0.0947\n",
       "\n",
       "$VOMIT2\n",
       "           Pr(1)  Pr(2)\n",
       "class 1:  1.0000 0.0000\n",
       "class 2:  1.0000 0.0000\n",
       "class 3:  0.8094 0.1906\n",
       "class 4:  0.9655 0.0345\n",
       "\n",
       "$CONST2\n",
       "           Pr(1)  Pr(2)\n",
       "class 1:  0.9291 0.0709\n",
       "class 2:  0.8748 0.1252\n",
       "class 3:  0.5936 0.4064\n",
       "class 4:  0.8265 0.1735\n",
       "\n",
       "$DIARR2\n",
       "           Pr(1)  Pr(2)\n",
       "class 1:  0.9766 0.0234\n",
       "class 2:  0.9211 0.0789\n",
       "class 3:  0.8654 0.1346\n",
       "class 4:  0.9530 0.0470\n",
       "\n",
       "$TIRED2\n",
       "           Pr(1)  Pr(2)\n",
       "class 1:  0.8400 0.1600\n",
       "class 2:  0.5604 0.4396\n",
       "class 3:  0.0191 0.9809\n",
       "class 4:  0.3140 0.6860\n",
       "\n",
       "$PAINADL2\n",
       "           Pr(1)  Pr(2)\n",
       "class 1:  1.0000 0.0000\n",
       "class 2:  0.9280 0.0720\n",
       "class 3:  0.3348 0.6652\n",
       "class 4:  0.7206 0.2794\n",
       "\n",
       "$CONCEN2\n",
       "           Pr(1)  Pr(2)\n",
       "class 1:  1.0000 0.0000\n",
       "class 2:  0.7384 0.2616\n",
       "class 3:  0.4204 0.5796\n",
       "class 4:  0.8304 0.1696\n",
       "\n",
       "$TENSE2\n",
       "           Pr(1)  Pr(2)\n",
       "class 1:  0.9885 0.0115\n",
       "class 2:  0.3864 0.6136\n",
       "class 3:  0.2291 0.7709\n",
       "class 4:  0.9489 0.0511\n",
       "\n",
       "$WORRY2\n",
       "           Pr(1)  Pr(2)\n",
       "class 1:  0.9328 0.0672\n",
       "class 2:  0.0000 1.0000\n",
       "class 3:  0.2100 0.7900\n",
       "class 4:  0.8418 0.1582\n",
       "\n",
       "$IRRIT2\n",
       "           Pr(1)  Pr(2)\n",
       "class 1:  0.9886 0.0114\n",
       "class 2:  0.6026 0.3974\n",
       "class 3:  0.4149 0.5851\n",
       "class 4:  0.9062 0.0938\n",
       "\n",
       "$DEPRES2\n",
       "           Pr(1)  Pr(2)\n",
       "class 1:  1.0000 0.0000\n",
       "class 2:  0.6138 0.3862\n",
       "class 3:  0.3985 0.6015\n",
       "class 4:  0.9723 0.0277\n",
       "\n",
       "$REMEM2\n",
       "           Pr(1)  Pr(2)\n",
       "class 1:  0.9663 0.0337\n",
       "class 2:  0.8382 0.1618\n",
       "class 3:  0.5949 0.4051\n",
       "class 4:  0.8814 0.1186\n",
       "\n",
       "$FAMILY2\n",
       "           Pr(1)  Pr(2)\n",
       "class 1:  0.9781 0.0219\n",
       "class 2:  0.9651 0.0349\n",
       "class 3:  0.1381 0.8619\n",
       "class 4:  0.6618 0.3382\n",
       "\n",
       "$SOCIAL2\n",
       "           Pr(1)  Pr(2)\n",
       "class 1:  0.9545 0.0455\n",
       "class 2:  0.8392 0.1608\n",
       "class 3:  0.0672 0.9328\n",
       "class 4:  0.2776 0.7224\n",
       "\n",
       "$FINANC2\n",
       "           Pr(1)  Pr(2)\n",
       "class 1:  0.9365 0.0635\n",
       "class 2:  0.8490 0.1510\n",
       "class 3:  0.6256 0.3744\n",
       "class 4:  0.8701 0.1299\n",
       "\n",
       "Estimated class population shares \n",
       " 0.3938 0.0902 0.2333 0.2826 \n",
       " \n",
       "Predicted class memberships (by modal posterior prob.) \n",
       " 0.3966 0.0881 0.2373 0.278 \n",
       " \n",
       "========================================================= \n",
       "Fit for 4 latent classes: \n",
       "========================================================= \n",
       "2 / 1 \n",
       "            Coefficient  Std. error  t value  Pr(>|t|)\n",
       "(Intercept)    -2.09626     1.66343   -1.260     0.209\n",
       "LIVEWITH        0.26710     0.67280    0.397     0.692\n",
       "========================================================= \n",
       "3 / 1 \n",
       "            Coefficient  Std. error  t value  Pr(>|t|)\n",
       "(Intercept)    -0.72022     0.59878   -1.203     0.230\n",
       "LIVEWITH        0.08642     0.25224    0.343     0.732\n",
       "========================================================= \n",
       "4 / 1 \n",
       "            Coefficient  Std. error  t value  Pr(>|t|)\n",
       "(Intercept)    -0.26111     0.54501   -0.479     0.632\n",
       "LIVEWITH       -0.03159     0.23215   -0.136     0.892\n",
       "========================================================= \n",
       "number of observations: 295 \n",
       "number of estimated parameters: 94 \n",
       "residual degrees of freedom: 201 \n",
       "maximum log-likelihood: -2545.091 \n",
       " \n",
       "AIC(4): 5278.183\n",
       "BIC(4): 5624.759\n",
       "X^2(4): 3983258 (Chi-square goodness of fit) \n",
       " \n",
       "ALERT: estimation algorithm automatically restarted with new initial values \n",
       " "
      ]
     },
     "metadata": {},
     "output_type": "display_data"
    }
   ],
   "source": [
    "kl4"
   ]
  },
  {
   "cell_type": "code",
   "execution_count": 359,
   "metadata": {},
   "outputs": [
    {
     "name": "stderr",
     "output_type": "stream",
     "text": [
      "Warning message in sqrt(diag(VCE.beta)):\n",
      "\"Se han producido NaNs\"Warning message in sqrt(diag(VCE.mix)):\n",
      "\"Se han producido NaNs\"Warning message in sqrt(diag(VCE.beta)):\n",
      "\"Se han producido NaNs\"Warning message in sqrt(diag(VCE.beta)):\n",
      "\"Se han producido NaNs\"Warning message in sqrt(diag(VCE.mix)):\n",
      "\"Se han producido NaNs\""
     ]
    },
    {
     "data": {
      "text/html": [
       "5655.33244236525"
      ],
      "text/latex": [
       "5655.33244236525"
      ],
      "text/markdown": [
       "5655.33244236525"
      ],
      "text/plain": [
       "[1] 5655.332"
      ]
     },
     "metadata": {},
     "output_type": "display_data"
    }
   ],
   "source": [
    "kl5=poLCA(pbind_live, data=patient_clusbi2, nclass=5, maxiter=200, nrep =50,verbose=F)\n",
    "kl5$bic"
   ]
  },
  {
   "cell_type": "code",
   "execution_count": null,
   "metadata": {
    "collapsed": true
   },
   "outputs": [],
   "source": []
  },
  {
   "cell_type": "code",
   "execution_count": null,
   "metadata": {
    "collapsed": true
   },
   "outputs": [],
   "source": []
  },
  {
   "cell_type": "code",
   "execution_count": null,
   "metadata": {
    "collapsed": true
   },
   "outputs": [],
   "source": []
  }
 ],
 "metadata": {
  "kernelspec": {
   "display_name": "R",
   "language": "R",
   "name": "ir"
  },
  "language_info": {
   "codemirror_mode": "r",
   "file_extension": ".r",
   "mimetype": "text/x-r-source",
   "name": "R",
   "pygments_lexer": "r",
   "version": "3.4.2"
  }
 },
 "nbformat": 4,
 "nbformat_minor": 2
}
