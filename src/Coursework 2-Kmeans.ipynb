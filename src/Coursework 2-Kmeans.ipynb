{
 "cells": [
  {
   "cell_type": "code",
   "execution_count": 5,
   "metadata": {
    "collapsed": true
   },
   "outputs": [],
   "source": [
    "library(dplyr)\n",
    "library(scatterplot3d)\n",
    "library(cluster)"
   ]
  },
  {
   "cell_type": "code",
   "execution_count": 6,
   "metadata": {},
   "outputs": [
    {
     "data": {
      "text/html": [
       "<ol class=list-inline>\n",
       "\t<li>380</li>\n",
       "\t<li>25</li>\n",
       "</ol>\n"
      ],
      "text/latex": [
       "\\begin{enumerate*}\n",
       "\\item 380\n",
       "\\item 25\n",
       "\\end{enumerate*}\n"
      ],
      "text/markdown": [
       "1. 380\n",
       "2. 25\n",
       "\n",
       "\n"
      ],
      "text/plain": [
       "[1] 380  25"
      ]
     },
     "metadata": {},
     "output_type": "display_data"
    },
    {
     "data": {
      "text/html": [
       "<ol class=list-inline>\n",
       "\t<li>'WORK2'</li>\n",
       "\t<li>'HOBBY2'</li>\n",
       "\t<li>'BREATH2'</li>\n",
       "\t<li>'PAIN2'</li>\n",
       "\t<li>'REST2'</li>\n",
       "\t<li>'SLEEP2'</li>\n",
       "\t<li>'APPET2'</li>\n",
       "\t<li>'NAUSEA2'</li>\n",
       "\t<li>'VOMIT2'</li>\n",
       "\t<li>'CONST2'</li>\n",
       "\t<li>'DIARR2'</li>\n",
       "\t<li>'TIRED2'</li>\n",
       "\t<li>'PAINADL2'</li>\n",
       "\t<li>'CONCEN2'</li>\n",
       "\t<li>'TENSE2'</li>\n",
       "\t<li>'WORRY2'</li>\n",
       "\t<li>'IRRIT2'</li>\n",
       "\t<li>'DEPRES2'</li>\n",
       "\t<li>'REMEM2'</li>\n",
       "\t<li>'FAMILY2'</li>\n",
       "\t<li>'SOCIAL2'</li>\n",
       "\t<li>'FINANC2'</li>\n",
       "\t<li>'GENDER'</li>\n",
       "\t<li>'AGE'</li>\n",
       "\t<li>'LIVEWITH'</li>\n",
       "</ol>\n"
      ],
      "text/latex": [
       "\\begin{enumerate*}\n",
       "\\item 'WORK2'\n",
       "\\item 'HOBBY2'\n",
       "\\item 'BREATH2'\n",
       "\\item 'PAIN2'\n",
       "\\item 'REST2'\n",
       "\\item 'SLEEP2'\n",
       "\\item 'APPET2'\n",
       "\\item 'NAUSEA2'\n",
       "\\item 'VOMIT2'\n",
       "\\item 'CONST2'\n",
       "\\item 'DIARR2'\n",
       "\\item 'TIRED2'\n",
       "\\item 'PAINADL2'\n",
       "\\item 'CONCEN2'\n",
       "\\item 'TENSE2'\n",
       "\\item 'WORRY2'\n",
       "\\item 'IRRIT2'\n",
       "\\item 'DEPRES2'\n",
       "\\item 'REMEM2'\n",
       "\\item 'FAMILY2'\n",
       "\\item 'SOCIAL2'\n",
       "\\item 'FINANC2'\n",
       "\\item 'GENDER'\n",
       "\\item 'AGE'\n",
       "\\item 'LIVEWITH'\n",
       "\\end{enumerate*}\n"
      ],
      "text/markdown": [
       "1. 'WORK2'\n",
       "2. 'HOBBY2'\n",
       "3. 'BREATH2'\n",
       "4. 'PAIN2'\n",
       "5. 'REST2'\n",
       "6. 'SLEEP2'\n",
       "7. 'APPET2'\n",
       "8. 'NAUSEA2'\n",
       "9. 'VOMIT2'\n",
       "10. 'CONST2'\n",
       "11. 'DIARR2'\n",
       "12. 'TIRED2'\n",
       "13. 'PAINADL2'\n",
       "14. 'CONCEN2'\n",
       "15. 'TENSE2'\n",
       "16. 'WORRY2'\n",
       "17. 'IRRIT2'\n",
       "18. 'DEPRES2'\n",
       "19. 'REMEM2'\n",
       "20. 'FAMILY2'\n",
       "21. 'SOCIAL2'\n",
       "22. 'FINANC2'\n",
       "23. 'GENDER'\n",
       "24. 'AGE'\n",
       "25. 'LIVEWITH'\n",
       "\n",
       "\n"
      ],
      "text/plain": [
       " [1] \"WORK2\"    \"HOBBY2\"   \"BREATH2\"  \"PAIN2\"    \"REST2\"    \"SLEEP2\"  \n",
       " [7] \"APPET2\"   \"NAUSEA2\"  \"VOMIT2\"   \"CONST2\"   \"DIARR2\"   \"TIRED2\"  \n",
       "[13] \"PAINADL2\" \"CONCEN2\"  \"TENSE2\"   \"WORRY2\"   \"IRRIT2\"   \"DEPRES2\" \n",
       "[19] \"REMEM2\"   \"FAMILY2\"  \"SOCIAL2\"  \"FINANC2\"  \"GENDER\"   \"AGE\"     \n",
       "[25] \"LIVEWITH\""
      ]
     },
     "metadata": {},
     "output_type": "display_data"
    }
   ],
   "source": [
    "setwd(\"D:/Lancaster University/Modules/Statistical learning/coursework task-20180209\") \n",
    "patient <- read.table(\"patient.dat\", header = TRUE)\n",
    "#View(patient)\n",
    "dim(patient)#381  25\n",
    "names(patient)\n"
   ]
  },
  {
   "cell_type": "code",
   "execution_count": 7,
   "metadata": {},
   "outputs": [
    {
     "data": {
      "text/html": [
       "<ol class=list-inline>\n",
       "\t<li>'WORK2'</li>\n",
       "\t<li>'HOBBY2'</li>\n",
       "\t<li>'BREATH2'</li>\n",
       "\t<li>'PAIN2'</li>\n",
       "\t<li>'REST2'</li>\n",
       "\t<li>'SLEEP2'</li>\n",
       "\t<li>'APPET2'</li>\n",
       "\t<li>'NAUSEA2'</li>\n",
       "\t<li>'VOMIT2'</li>\n",
       "\t<li>'CONST2'</li>\n",
       "\t<li>'DIARR2'</li>\n",
       "\t<li>'TIRED2'</li>\n",
       "\t<li>'PAINADL2'</li>\n",
       "\t<li>'CONCEN2'</li>\n",
       "\t<li>'TENSE2'</li>\n",
       "\t<li>'WORRY2'</li>\n",
       "\t<li>'IRRIT2'</li>\n",
       "\t<li>'DEPRES2'</li>\n",
       "\t<li>'REMEM2'</li>\n",
       "\t<li>'FAMILY2'</li>\n",
       "\t<li>'SOCIAL2'</li>\n",
       "\t<li>'FINANC2'</li>\n",
       "</ol>\n"
      ],
      "text/latex": [
       "\\begin{enumerate*}\n",
       "\\item 'WORK2'\n",
       "\\item 'HOBBY2'\n",
       "\\item 'BREATH2'\n",
       "\\item 'PAIN2'\n",
       "\\item 'REST2'\n",
       "\\item 'SLEEP2'\n",
       "\\item 'APPET2'\n",
       "\\item 'NAUSEA2'\n",
       "\\item 'VOMIT2'\n",
       "\\item 'CONST2'\n",
       "\\item 'DIARR2'\n",
       "\\item 'TIRED2'\n",
       "\\item 'PAINADL2'\n",
       "\\item 'CONCEN2'\n",
       "\\item 'TENSE2'\n",
       "\\item 'WORRY2'\n",
       "\\item 'IRRIT2'\n",
       "\\item 'DEPRES2'\n",
       "\\item 'REMEM2'\n",
       "\\item 'FAMILY2'\n",
       "\\item 'SOCIAL2'\n",
       "\\item 'FINANC2'\n",
       "\\end{enumerate*}\n"
      ],
      "text/markdown": [
       "1. 'WORK2'\n",
       "2. 'HOBBY2'\n",
       "3. 'BREATH2'\n",
       "4. 'PAIN2'\n",
       "5. 'REST2'\n",
       "6. 'SLEEP2'\n",
       "7. 'APPET2'\n",
       "8. 'NAUSEA2'\n",
       "9. 'VOMIT2'\n",
       "10. 'CONST2'\n",
       "11. 'DIARR2'\n",
       "12. 'TIRED2'\n",
       "13. 'PAINADL2'\n",
       "14. 'CONCEN2'\n",
       "15. 'TENSE2'\n",
       "16. 'WORRY2'\n",
       "17. 'IRRIT2'\n",
       "18. 'DEPRES2'\n",
       "19. 'REMEM2'\n",
       "20. 'FAMILY2'\n",
       "21. 'SOCIAL2'\n",
       "22. 'FINANC2'\n",
       "\n",
       "\n"
      ],
      "text/plain": [
       " [1] \"WORK2\"    \"HOBBY2\"   \"BREATH2\"  \"PAIN2\"    \"REST2\"    \"SLEEP2\"  \n",
       " [7] \"APPET2\"   \"NAUSEA2\"  \"VOMIT2\"   \"CONST2\"   \"DIARR2\"   \"TIRED2\"  \n",
       "[13] \"PAINADL2\" \"CONCEN2\"  \"TENSE2\"   \"WORRY2\"   \"IRRIT2\"   \"DEPRES2\" \n",
       "[19] \"REMEM2\"   \"FAMILY2\"  \"SOCIAL2\"  \"FINANC2\" "
      ]
     },
     "metadata": {},
     "output_type": "display_data"
    },
    {
     "data": {
      "text/html": [
       "<ol class=list-inline>\n",
       "\t<li>302</li>\n",
       "\t<li>22</li>\n",
       "</ol>\n"
      ],
      "text/latex": [
       "\\begin{enumerate*}\n",
       "\\item 302\n",
       "\\item 22\n",
       "\\end{enumerate*}\n"
      ],
      "text/markdown": [
       "1. 302\n",
       "2. 22\n",
       "\n",
       "\n"
      ],
      "text/plain": [
       "[1] 302  22"
      ]
     },
     "metadata": {},
     "output_type": "display_data"
    },
    {
     "data": {
      "text/html": [
       "<table>\n",
       "<thead><tr><th scope=col>WORK2</th><th scope=col>HOBBY2</th><th scope=col>BREATH2</th><th scope=col>PAIN2</th><th scope=col>REST2</th><th scope=col>SLEEP2</th><th scope=col>APPET2</th><th scope=col>NAUSEA2</th><th scope=col>VOMIT2</th><th scope=col>CONST2</th><th scope=col>...</th><th scope=col>PAINADL2</th><th scope=col>CONCEN2</th><th scope=col>TENSE2</th><th scope=col>WORRY2</th><th scope=col>IRRIT2</th><th scope=col>DEPRES2</th><th scope=col>REMEM2</th><th scope=col>FAMILY2</th><th scope=col>SOCIAL2</th><th scope=col>FINANC2</th></tr></thead>\n",
       "<tbody>\n",
       "\t<tr><td>3  </td><td>3  </td><td>2  </td><td>3  </td><td>3  </td><td>2  </td><td>1  </td><td>1  </td><td>1  </td><td>1  </td><td>...</td><td>2  </td><td>3  </td><td>1  </td><td>1  </td><td>2  </td><td>1  </td><td>1  </td><td>3  </td><td>2  </td><td>3  </td></tr>\n",
       "\t<tr><td>4  </td><td>4  </td><td>4  </td><td>4  </td><td>4  </td><td>4  </td><td>1  </td><td>2  </td><td>2  </td><td>2  </td><td>...</td><td>3  </td><td>3  </td><td>3  </td><td>3  </td><td>3  </td><td>3  </td><td>3  </td><td>2  </td><td>3  </td><td>3  </td></tr>\n",
       "\t<tr><td>4  </td><td>4  </td><td>4  </td><td>2  </td><td>4  </td><td>2  </td><td>1  </td><td>1  </td><td>1  </td><td>1  </td><td>...</td><td>2  </td><td>3  </td><td>2  </td><td>2  </td><td>2  </td><td>2  </td><td>3  </td><td>3  </td><td>4  </td><td>1  </td></tr>\n",
       "\t<tr><td>4  </td><td>3  </td><td>3  </td><td>3  </td><td>3  </td><td>4  </td><td>2  </td><td>1  </td><td>1  </td><td>1  </td><td>...</td><td>4  </td><td>4  </td><td>4  </td><td>4  </td><td>4  </td><td>4  </td><td>4  </td><td>3  </td><td>3  </td><td>2  </td></tr>\n",
       "\t<tr><td>3  </td><td>3  </td><td>1  </td><td>3  </td><td>3  </td><td>4  </td><td>2  </td><td>2  </td><td>1  </td><td>1  </td><td>...</td><td>2  </td><td>3  </td><td>3  </td><td>2  </td><td>3  </td><td>3  </td><td>3  </td><td>3  </td><td>3  </td><td>1  </td></tr>\n",
       "\t<tr><td>2  </td><td>2  </td><td>2  </td><td>2  </td><td>3  </td><td>1  </td><td>2  </td><td>1  </td><td>1  </td><td>3  </td><td>...</td><td>1  </td><td>1  </td><td>1  </td><td>2  </td><td>1  </td><td>2  </td><td>2  </td><td>3  </td><td>2  </td><td>1  </td></tr>\n",
       "</tbody>\n",
       "</table>\n"
      ],
      "text/latex": [
       "\\begin{tabular}{r|llllllllllllllllllllll}\n",
       " WORK2 & HOBBY2 & BREATH2 & PAIN2 & REST2 & SLEEP2 & APPET2 & NAUSEA2 & VOMIT2 & CONST2 & ... & PAINADL2 & CONCEN2 & TENSE2 & WORRY2 & IRRIT2 & DEPRES2 & REMEM2 & FAMILY2 & SOCIAL2 & FINANC2\\\\\n",
       "\\hline\n",
       "\t 3   & 3   & 2   & 3   & 3   & 2   & 1   & 1   & 1   & 1   & ... & 2   & 3   & 1   & 1   & 2   & 1   & 1   & 3   & 2   & 3  \\\\\n",
       "\t 4   & 4   & 4   & 4   & 4   & 4   & 1   & 2   & 2   & 2   & ... & 3   & 3   & 3   & 3   & 3   & 3   & 3   & 2   & 3   & 3  \\\\\n",
       "\t 4   & 4   & 4   & 2   & 4   & 2   & 1   & 1   & 1   & 1   & ... & 2   & 3   & 2   & 2   & 2   & 2   & 3   & 3   & 4   & 1  \\\\\n",
       "\t 4   & 3   & 3   & 3   & 3   & 4   & 2   & 1   & 1   & 1   & ... & 4   & 4   & 4   & 4   & 4   & 4   & 4   & 3   & 3   & 2  \\\\\n",
       "\t 3   & 3   & 1   & 3   & 3   & 4   & 2   & 2   & 1   & 1   & ... & 2   & 3   & 3   & 2   & 3   & 3   & 3   & 3   & 3   & 1  \\\\\n",
       "\t 2   & 2   & 2   & 2   & 3   & 1   & 2   & 1   & 1   & 3   & ... & 1   & 1   & 1   & 2   & 1   & 2   & 2   & 3   & 2   & 1  \\\\\n",
       "\\end{tabular}\n"
      ],
      "text/markdown": [
       "\n",
       "WORK2 | HOBBY2 | BREATH2 | PAIN2 | REST2 | SLEEP2 | APPET2 | NAUSEA2 | VOMIT2 | CONST2 | ... | PAINADL2 | CONCEN2 | TENSE2 | WORRY2 | IRRIT2 | DEPRES2 | REMEM2 | FAMILY2 | SOCIAL2 | FINANC2 | \n",
       "|---|---|---|---|---|---|\n",
       "| 3   | 3   | 2   | 3   | 3   | 2   | 1   | 1   | 1   | 1   | ... | 2   | 3   | 1   | 1   | 2   | 1   | 1   | 3   | 2   | 3   | \n",
       "| 4   | 4   | 4   | 4   | 4   | 4   | 1   | 2   | 2   | 2   | ... | 3   | 3   | 3   | 3   | 3   | 3   | 3   | 2   | 3   | 3   | \n",
       "| 4   | 4   | 4   | 2   | 4   | 2   | 1   | 1   | 1   | 1   | ... | 2   | 3   | 2   | 2   | 2   | 2   | 3   | 3   | 4   | 1   | \n",
       "| 4   | 3   | 3   | 3   | 3   | 4   | 2   | 1   | 1   | 1   | ... | 4   | 4   | 4   | 4   | 4   | 4   | 4   | 3   | 3   | 2   | \n",
       "| 3   | 3   | 1   | 3   | 3   | 4   | 2   | 2   | 1   | 1   | ... | 2   | 3   | 3   | 2   | 3   | 3   | 3   | 3   | 3   | 1   | \n",
       "| 2   | 2   | 2   | 2   | 3   | 1   | 2   | 1   | 1   | 3   | ... | 1   | 1   | 1   | 2   | 1   | 2   | 2   | 3   | 2   | 1   | \n",
       "\n",
       "\n"
      ],
      "text/plain": [
       "  WORK2 HOBBY2 BREATH2 PAIN2 REST2 SLEEP2 APPET2 NAUSEA2 VOMIT2 CONST2 ...\n",
       "1 3     3      2       3     3     2      1      1       1      1      ...\n",
       "2 4     4      4       4     4     4      1      2       2      2      ...\n",
       "3 4     4      4       2     4     2      1      1       1      1      ...\n",
       "4 4     3      3       3     3     4      2      1       1      1      ...\n",
       "5 3     3      1       3     3     4      2      2       1      1      ...\n",
       "6 2     2      2       2     3     1      2      1       1      3      ...\n",
       "  PAINADL2 CONCEN2 TENSE2 WORRY2 IRRIT2 DEPRES2 REMEM2 FAMILY2 SOCIAL2 FINANC2\n",
       "1 2        3       1      1      2      1       1      3       2       3      \n",
       "2 3        3       3      3      3      3       3      2       3       3      \n",
       "3 2        3       2      2      2      2       3      3       4       1      \n",
       "4 4        4       4      4      4      4       4      3       3       2      \n",
       "5 2        3       3      2      3      3       3      3       3       1      \n",
       "6 1        1       1      2      1      2       2      3       2       1      "
      ]
     },
     "metadata": {},
     "output_type": "display_data"
    }
   ],
   "source": [
    "#Read the dataset\n",
    "patient_clus<- select(patient, WORK2, HOBBY2, BREATH2, PAIN2, REST2, SLEEP2, APPET2, NAUSEA2, VOMIT2, CONST2, DIARR2, TIRED2, PAINADL2, CONCEN2, TENSE2, WORRY2, IRRIT2, DEPRES2, REMEM2, FAMILY2, SOCIAL2, FINANC2)\n",
    "names(patient_clus)\n",
    "patient_clus<- na.omit(patient_clus)\n",
    "dim(patient_clus)#302 22  \n",
    "head(patient_clus)"
   ]
  },
  {
   "cell_type": "code",
   "execution_count": 8,
   "metadata": {
    "collapsed": true
   },
   "outputs": [],
   "source": [
    "#We now try kmeans. We first fit the best of 200 replications, trying 4 clusters \n",
    "#We then plot the total within sums of squars against k - an elbow plot."
   ]
  },
  {
   "cell_type": "code",
   "execution_count": 9,
   "metadata": {
    "collapsed": true
   },
   "outputs": [],
   "source": [
    "outwss = numeric(200)\n",
    "outkmlist=array(list(NULL), 200)\n",
    "for (i in 1:200)\n",
    "{                                    # kmeans 200 times with\n",
    "outkm = kmeans(patient_clus, 4, nstart=200, iter.max=200) # different starting values     \n",
    "outkmlist[[i]]=outkm                 # store the kmeans object\n",
    "outwss[i]=outkm$tot.withinss        # and the within ss \n",
    "}\n"
   ]
  },
  {
   "cell_type": "code",
   "execution_count": 177,
   "metadata": {},
   "outputs": [
    {
     "data": {
      "text/html": [
       "1"
      ],
      "text/latex": [
       "1"
      ],
      "text/markdown": [
       "1"
      ],
      "text/plain": [
       "[1] 1"
      ]
     },
     "metadata": {},
     "output_type": "display_data"
    }
   ],
   "source": [
    "j=which.min(outwss) # what is the index of the minimum wss\n",
    "            # and the result of the fit\n",
    "j#3"
   ]
  },
  {
   "cell_type": "code",
   "execution_count": 178,
   "metadata": {},
   "outputs": [
    {
     "data": {
      "text/html": [
       "4140.47179487179"
      ],
      "text/latex": [
       "4140.47179487179"
      ],
      "text/markdown": [
       "4140.47179487179"
      ],
      "text/plain": [
       "[1] 4140.472"
      ]
     },
     "metadata": {},
     "output_type": "display_data"
    }
   ],
   "source": [
    "outwss[j]   # print out the wss value - minimum total within sums of squares \n",
    " "
   ]
  },
  {
   "cell_type": "code",
   "execution_count": 179,
   "metadata": {
    "scrolled": true
   },
   "outputs": [
    {
     "data": {
      "text/plain": [
       "K-means clustering with 2 clusters of sizes 195, 107\n",
       "\n",
       "Cluster means:\n",
       "     WORK2   HOBBY2  BREATH2    PAIN2    REST2   SLEEP2   APPET2 NAUSEA2\n",
       "1 2.092308 1.969231 1.435897 1.558974 2.061538 1.717949 1.323077 1.20000\n",
       "2 3.570093 3.429907 2.345794 2.822430 3.429907 2.897196 2.308411 2.17757\n",
       "    VOMIT2   CONST2   DIARR2   TIRED2 PAINADL2  CONCEN2   TENSE2   WORRY2\n",
       "1 1.041026 1.323077 1.220513 2.158974 1.297436 1.384615 1.620513 1.964103\n",
       "2 1.579439 2.065421 1.448598 3.485981 2.719626 2.457944 2.700935 2.878505\n",
       "    IRRIT2  DEPRES2   REMEM2  FAMILY2  SOCIAL2  FINANC2\n",
       "1 1.466667 1.476923 1.461538 1.482051 1.810256 1.312821\n",
       "2 2.429907 2.485981 2.056075 3.037383 3.411215 2.009346\n",
       "\n",
       "Clustering vector:\n",
       "  1   2   3   4   5   6   7   8  10  11  12  13  14  15  16  17  18  20  21  22 \n",
       "  1   2   2   2   2   1   1   1   1   2   1   1   1   1   1   1   2   1   2   1 \n",
       " 23  24  25  26  27  30  31  32  34  37  38  39  40  41  42  44  45  47  48  49 \n",
       "  1   1   1   1   1   2   1   2   1   1   2   1   1   1   1   1   2   1   2   2 \n",
       " 50  51  52  53  55  56  57  58  59  61  62  64  65  66  67  69  70  71  72  73 \n",
       "  1   2   1   2   2   1   1   1   1   1   1   1   1   1   2   2   1   1   1   1 \n",
       " 74  76  77  78  79  80  81  82  83  85  86  87  88  90  92  94  95  96  97  98 \n",
       "  1   1   1   1   1   2   1   1   1   2   1   1   1   1   2   2   1   1   1   1 \n",
       " 99 100 101 102 103 104 105 106 107 108 109 111 112 114 116 117 118 119 120 122 \n",
       "  1   1   1   1   1   2   1   1   1   2   1   1   1   2   1   1   1   1   1   2 \n",
       "123 124 125 126 127 128 129 130 131 132 133 134 135 137 138 140 141 142 143 146 \n",
       "  1   1   1   2   1   1   1   1   1   1   2   1   1   1   2   2   1   2   1   2 \n",
       "147 148 149 150 151 152 153 154 155 156 157 159 160 161 163 165 166 167 168 169 \n",
       "  1   1   1   2   1   2   2   1   1   2   1   1   1   2   2   1   2   2   1   2 \n",
       "172 173 174 175 176 177 178 179 180 181 182 183 186 187 188 189 190 191 192 193 \n",
       "  1   1   1   2   1   2   1   2   1   1   1   1   2   1   1   1   2   1   1   1 \n",
       "194 197 198 199 200 201 203 204 207 208 209 210 212 214 215 216 217 218 220 221 \n",
       "  1   1   2   1   2   2   2   1   1   1   1   1   2   2   2   1   2   1   1   1 \n",
       "222 224 225 226 230 231 232 233 234 236 238 240 242 243 245 246 247 248 249 250 \n",
       "  1   1   1   1   1   1   1   1   1   2   1   2   1   1   2   2   1   1   2   2 \n",
       "251 252 253 254 257 259 260 261 262 264 265 266 267 268 269 270 274 276 277 278 \n",
       "  2   1   1   1   2   1   1   1   1   1   1   2   2   2   2   2   1   1   1   1 \n",
       "279 280 281 282 283 284 285 286 287 288 289 290 291 292 294 295 296 297 298 299 \n",
       "  1   2   2   2   1   1   1   2   2   2   2   1   1   2   2   2   1   2   1   1 \n",
       "300 302 303 304 306 307 308 309 310 311 314 315 316 317 318 319 320 321 323 324 \n",
       "  1   2   2   2   1   1   2   1   1   1   2   2   2   2   2   2   2   2   1   1 \n",
       "325 326 328 330 332 336 337 338 339 340 341 342 343 344 345 346 347 349 350 351 \n",
       "  1   2   1   2   1   2   2   2   1   1   1   1   1   2   1   2   1   2   1   1 \n",
       "353 354 356 358 359 360 361 363 365 366 368 369 370 371 372 374 375 376 377 378 \n",
       "  1   2   2   1   2   1   1   2   1   1   2   2   1   2   1   1   1   1   2   1 \n",
       "379 380 \n",
       "  1   2 \n",
       "\n",
       "Within cluster sum of squares by cluster:\n",
       "[1] 2064.472 2076.000\n",
       " (between_SS / total_SS =  31.5 %)\n",
       "\n",
       "Available components:\n",
       "\n",
       "[1] \"cluster\"      \"centers\"      \"totss\"        \"withinss\"     \"tot.withinss\"\n",
       "[6] \"betweenss\"    \"size\"         \"iter\"         \"ifault\"      "
      ]
     },
     "metadata": {},
     "output_type": "display_data"
    }
   ],
   "source": [
    "outkmlist[[j]]"
   ]
  },
  {
   "cell_type": "code",
   "execution_count": 181,
   "metadata": {},
   "outputs": [
    {
     "data": {
      "text/html": [
       "<ol class=list-inline>\n",
       "\t<li>6042.50662251658</li>\n",
       "\t<li>4140.47179487179</li>\n",
       "\t<li>3648.14609256662</li>\n",
       "\t<li>3445.71059422752</li>\n",
       "\t<li>3278.93378013771</li>\n",
       "\t<li>3163.70033657261</li>\n",
       "\t<li>3066.50606736098</li>\n",
       "\t<li>2972.76008098892</li>\n",
       "\t<li>2898.27449615744</li>\n",
       "\t<li>2835.07761665639</li>\n",
       "</ol>\n"
      ],
      "text/latex": [
       "\\begin{enumerate*}\n",
       "\\item 6042.50662251658\n",
       "\\item 4140.47179487179\n",
       "\\item 3648.14609256662\n",
       "\\item 3445.71059422752\n",
       "\\item 3278.93378013771\n",
       "\\item 3163.70033657261\n",
       "\\item 3066.50606736098\n",
       "\\item 2972.76008098892\n",
       "\\item 2898.27449615744\n",
       "\\item 2835.07761665639\n",
       "\\end{enumerate*}\n"
      ],
      "text/markdown": [
       "1. 6042.50662251658\n",
       "2. 4140.47179487179\n",
       "3. 3648.14609256662\n",
       "4. 3445.71059422752\n",
       "5. 3278.93378013771\n",
       "6. 3163.70033657261\n",
       "7. 3066.50606736098\n",
       "8. 2972.76008098892\n",
       "9. 2898.27449615744\n",
       "10. 2835.07761665639\n",
       "\n",
       "\n"
      ],
      "text/plain": [
       " [1] 6042.507 4140.472 3648.146 3445.711 3278.934 3163.700 3066.506 2972.760\n",
       " [9] 2898.274 2835.078"
      ]
     },
     "metadata": {},
     "output_type": "display_data"
    }
   ],
   "source": [
    "k.max=10\n",
    "\n",
    "wss <- sapply(1:k.max, \n",
    "              function(k){\n",
    "kmeans(patient_clus, k, nstart=200,iter.max = 20 )$tot.withinss\n",
    "                  \n",
    "})\n",
    "wss"
   ]
  },
  {
   "cell_type": "code",
   "execution_count": 182,
   "metadata": {},
   "outputs": [
    {
     "data": {
      "image/png": "[encoded data removed]",
      "text/plain": [
       "plot without title"
      ]
     },
     "metadata": {},
     "output_type": "display_data"
    }
   ],
   "source": [
    "plot(1:k.max, wss,\n",
    "     type=\"b\", pch = 19, frame = FALSE, \n",
    "     xlab=\"Number of clusters K\",\n",
    "     ylab=\"Total within-clusters sum of squares\")"
   ]
  },
  {
   "cell_type": "code",
   "execution_count": 183,
   "metadata": {
    "collapsed": true
   },
   "outputs": [],
   "source": [
    "#The plot looks very smooth, with no sudden changes of direction (elbow). It is hard to judge how many clusters \n",
    "#from this plot. We try the NbClust function"
   ]
  },
  {
   "cell_type": "code",
   "execution_count": 184,
   "metadata": {},
   "outputs": [
    {
     "name": "stdout",
     "output_type": "stream",
     "text": [
      "*** : The Hubert index is a graphical method of determining the number of clusters.\n",
      "                In the plot of Hubert index, we seek a significant knee that corresponds to a \n",
      "                significant increase of the value of the measure i.e the significant peak in Hubert\n",
      "                index second differences plot. \n",
      " \n"
     ]
    },
    {
     "data": {
      "image/png": "[encoded data removed]",
      "text/plain": [
       "plot without title"
      ]
     },
     "metadata": {},
     "output_type": "display_data"
    },
    {
     "name": "stdout",
     "output_type": "stream",
     "text": [
      "*** : The D index is a graphical method of determining the number of clusters. \n",
      "                In the plot of D index, we seek a significant knee (the significant peak in Dindex\n",
      "                second differences plot) that corresponds to a significant increase of the value of\n",
      "                the measure. \n",
      " \n",
      "******************************************************************* \n",
      "* Among all indices:                                                \n",
      "* 12 proposed 2 as the best number of clusters \n",
      "* 9 proposed 3 as the best number of clusters \n",
      "* 1 proposed 6 as the best number of clusters \n",
      "* 1 proposed 10 as the best number of clusters \n",
      "* 1 proposed 14 as the best number of clusters \n",
      "\n",
      "                   ***** Conclusion *****                            \n",
      " \n",
      "* According to the majority rule, the best number of clusters is  2 \n",
      " \n",
      " \n",
      "******************************************************************* \n"
     ]
    },
    {
     "data": {
      "image/png": "[encoded data removed]",
      "text/plain": [
       "plot without title"
      ]
     },
     "metadata": {},
     "output_type": "display_data"
    }
   ],
   "source": [
    "library(NbClust)\n",
    "nb <- NbClust(patient_clus, diss=NULL, distance = \"euclidean\", \n",
    "              min.nc=2, max.nc=15, method = \"kmeans\", \n",
    "              index = \"all\", alphaBeale = 0.1)"
   ]
  },
  {
   "cell_type": "markdown",
   "metadata": {},
   "source": [
    "#### 4 and 6\n",
    "#Again, the various measures are contradictory. The two graphical procedures suggest either k=4 or k=8, \n",
    "#but these are not supported by other measures, which seem to support k=2. We look at the k=4 solution, \n",
    "#but we need to consider k=2."
   ]
  },
  {
   "cell_type": "code",
   "execution_count": null,
   "metadata": {
    "collapsed": true
   },
   "outputs": [],
   "source": []
  },
  {
   "cell_type": "code",
   "execution_count": null,
   "metadata": {
    "collapsed": true
   },
   "outputs": [],
   "source": []
  },
  {
   "cell_type": "code",
   "execution_count": null,
   "metadata": {
    "collapsed": true
   },
   "outputs": [],
   "source": []
  },
  {
   "cell_type": "code",
   "execution_count": null,
   "metadata": {
    "collapsed": true
   },
   "outputs": [],
   "source": []
  },
  {
   "cell_type": "code",
   "execution_count": null,
   "metadata": {
    "collapsed": true
   },
   "outputs": [],
   "source": []
  },
  {
   "cell_type": "code",
   "execution_count": null,
   "metadata": {
    "collapsed": true
   },
   "outputs": [],
   "source": [
    "k4$centers"
   ]
  },
  {
   "cell_type": "code",
   "execution_count": null,
   "metadata": {
    "collapsed": true
   },
   "outputs": [],
   "source": [
    "k4=kmeans(shyb, 4, nstart=200,iter.max = 20 )\n",
    "pairs(shyb, col=k4$cluster)"
   ]
  },
  {
   "cell_type": "code",
   "execution_count": null,
   "metadata": {
    "collapsed": true
   },
   "outputs": [],
   "source": [
    "library(mclust)"
   ]
  },
  {
   "cell_type": "code",
   "execution_count": null,
   "metadata": {
    "collapsed": true
   },
   "outputs": [],
   "source": [
    "mc=Mclust(shyb)\n",
    "mc"
   ]
  },
  {
   "cell_type": "code",
   "execution_count": null,
   "metadata": {
    "collapsed": true
   },
   "outputs": [],
   "source": [
    "plot(mc, what=\"BIC\")"
   ]
  },
  {
   "cell_type": "code",
   "execution_count": null,
   "metadata": {
    "collapsed": true
   },
   "outputs": [],
   "source": [
    "plot(mc, what=\"classification\")"
   ]
  },
  {
   "cell_type": "code",
   "execution_count": null,
   "metadata": {
    "collapsed": true
   },
   "outputs": [],
   "source": [
    "plot(mc, what=\"density\")"
   ]
  },
  {
   "cell_type": "code",
   "execution_count": null,
   "metadata": {
    "collapsed": true
   },
   "outputs": [],
   "source": [
    "hyb$carclass"
   ]
  },
  {
   "cell_type": "code",
   "execution_count": null,
   "metadata": {
    "collapsed": true
   },
   "outputs": [],
   "source": [
    "mc$classification"
   ]
  },
  {
   "cell_type": "code",
   "execution_count": null,
   "metadata": {
    "collapsed": true
   },
   "outputs": [],
   "source": [
    "table(mc$classification, hyb$carclass)"
   ]
  },
  {
   "cell_type": "code",
   "execution_count": null,
   "metadata": {
    "collapsed": true
   },
   "outputs": [],
   "source": []
  },
  {
   "cell_type": "code",
   "execution_count": null,
   "metadata": {
    "collapsed": true
   },
   "outputs": [],
   "source": []
  }
 ],
 "metadata": {
  "kernelspec": {
   "display_name": "R",
   "language": "R",
   "name": "ir"
  },
  "language_info": {
   "codemirror_mode": "r",
   "file_extension": ".r",
   "mimetype": "text/x-r-source",
   "name": "R",
   "pygments_lexer": "r",
   "version": "3.4.2"
  }
 },
 "nbformat": 4,
 "nbformat_minor": 2
}
